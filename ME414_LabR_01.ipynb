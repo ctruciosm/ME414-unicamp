{
  "nbformat": 4,
  "nbformat_minor": 0,
  "metadata": {
    "colab": {
      "provenance": [],
      "authorship_tag": "ABX9TyOPNGYCyVJayg4Rcl5h/dnD",
      "include_colab_link": true
    },
    "kernelspec": {
      "name": "ir",
      "display_name": "R"
    },
    "language_info": {
      "name": "R"
    }
  },
  "cells": [
    {
      "cell_type": "markdown",
      "metadata": {
        "id": "view-in-github",
        "colab_type": "text"
      },
      "source": [
        "<a href=\"https://colab.research.google.com/github/ctruciosm/ME414-unicamp/blob/main/ME414_LabR_01.ipynb\" target=\"_parent\"><img src=\"https://colab.research.google.com/assets/colab-badge.svg\" alt=\"Open In Colab\"/></a>"
      ]
    },
    {
      "cell_type": "markdown",
      "source": [
        "# Laboratório de R: 01\n",
        "\n",
        "## Importando dados\n",
        "- `read.csv()`\n",
        "- `read.table()`"
      ],
      "metadata": {
        "id": "QuAlfX8J7-iW"
      }
    },
    {
      "cell_type": "code",
      "execution_count": 1,
      "metadata": {
        "colab": {
          "base_uri": "https://localhost:8080/",
          "height": 549
        },
        "id": "V8pNYzd365gl",
        "outputId": "880b5d08-4d00-407d-9ee7-07e2a00ce86f"
      },
      "outputs": [
        {
          "output_type": "display_data",
          "data": {
            "text/html": [
              "<table class=\"dataframe\">\n",
              "<caption>A data.frame: 6 × 13</caption>\n",
              "<thead>\n",
              "\t<tr><th></th><th scope=col>X</th><th scope=col>PassengerId</th><th scope=col>Survived</th><th scope=col>Pclass</th><th scope=col>Name</th><th scope=col>Sex</th><th scope=col>Age</th><th scope=col>SibSp</th><th scope=col>Parch</th><th scope=col>Ticket</th><th scope=col>Fare</th><th scope=col>Cabin</th><th scope=col>Embarked</th></tr>\n",
              "\t<tr><th></th><th scope=col>&lt;int&gt;</th><th scope=col>&lt;int&gt;</th><th scope=col>&lt;int&gt;</th><th scope=col>&lt;chr&gt;</th><th scope=col>&lt;chr&gt;</th><th scope=col>&lt;chr&gt;</th><th scope=col>&lt;dbl&gt;</th><th scope=col>&lt;int&gt;</th><th scope=col>&lt;int&gt;</th><th scope=col>&lt;chr&gt;</th><th scope=col>&lt;dbl&gt;</th><th scope=col>&lt;chr&gt;</th><th scope=col>&lt;chr&gt;</th></tr>\n",
              "</thead>\n",
              "<tbody>\n",
              "\t<tr><th scope=row>1</th><td>1</td><td>892</td><td>0</td><td>3rd</td><td>Kelly, Mr. James                            </td><td>male  </td><td>34.5</td><td>0</td><td>0</td><td>330911 </td><td> 7.8292</td><td></td><td>Q</td></tr>\n",
              "\t<tr><th scope=row>2</th><td>2</td><td>893</td><td>1</td><td>3rd</td><td>Wilkes, Mrs. James (Ellen Needs)            </td><td>female</td><td>47.0</td><td>1</td><td>0</td><td>363272 </td><td> 7.0000</td><td></td><td>S</td></tr>\n",
              "\t<tr><th scope=row>3</th><td>3</td><td>894</td><td>0</td><td>2nd</td><td>Myles, Mr. Thomas Francis                   </td><td>male  </td><td>62.0</td><td>0</td><td>0</td><td>240276 </td><td> 9.6875</td><td></td><td>Q</td></tr>\n",
              "\t<tr><th scope=row>4</th><td>4</td><td>895</td><td>0</td><td>3rd</td><td>Wirz, Mr. Albert                            </td><td>male  </td><td>27.0</td><td>0</td><td>0</td><td>315154 </td><td> 8.6625</td><td></td><td>S</td></tr>\n",
              "\t<tr><th scope=row>5</th><td>5</td><td>896</td><td>1</td><td>3rd</td><td>Hirvonen, Mrs. Alexander (Helga E Lindqvist)</td><td>female</td><td>22.0</td><td>1</td><td>1</td><td>3101298</td><td>12.2875</td><td></td><td>S</td></tr>\n",
              "\t<tr><th scope=row>6</th><td>6</td><td>897</td><td>0</td><td>3rd</td><td>Svensson, Mr. Johan Cervin                  </td><td>male  </td><td>14.0</td><td>0</td><td>0</td><td>7538   </td><td> 9.2250</td><td></td><td>S</td></tr>\n",
              "</tbody>\n",
              "</table>\n"
            ],
            "text/markdown": "\nA data.frame: 6 × 13\n\n| <!--/--> | X &lt;int&gt; | PassengerId &lt;int&gt; | Survived &lt;int&gt; | Pclass &lt;chr&gt; | Name &lt;chr&gt; | Sex &lt;chr&gt; | Age &lt;dbl&gt; | SibSp &lt;int&gt; | Parch &lt;int&gt; | Ticket &lt;chr&gt; | Fare &lt;dbl&gt; | Cabin &lt;chr&gt; | Embarked &lt;chr&gt; |\n|---|---|---|---|---|---|---|---|---|---|---|---|---|---|\n| 1 | 1 | 892 | 0 | 3rd | Kelly, Mr. James                             | male   | 34.5 | 0 | 0 | 330911  |  7.8292 | <!----> | Q |\n| 2 | 2 | 893 | 1 | 3rd | Wilkes, Mrs. James (Ellen Needs)             | female | 47.0 | 1 | 0 | 363272  |  7.0000 | <!----> | S |\n| 3 | 3 | 894 | 0 | 2nd | Myles, Mr. Thomas Francis                    | male   | 62.0 | 0 | 0 | 240276  |  9.6875 | <!----> | Q |\n| 4 | 4 | 895 | 0 | 3rd | Wirz, Mr. Albert                             | male   | 27.0 | 0 | 0 | 315154  |  8.6625 | <!----> | S |\n| 5 | 5 | 896 | 1 | 3rd | Hirvonen, Mrs. Alexander (Helga E Lindqvist) | female | 22.0 | 1 | 1 | 3101298 | 12.2875 | <!----> | S |\n| 6 | 6 | 897 | 0 | 3rd | Svensson, Mr. Johan Cervin                   | male   | 14.0 | 0 | 0 | 7538    |  9.2250 | <!----> | S |\n\n",
            "text/latex": "A data.frame: 6 × 13\n\\begin{tabular}{r|lllllllllllll}\n  & X & PassengerId & Survived & Pclass & Name & Sex & Age & SibSp & Parch & Ticket & Fare & Cabin & Embarked\\\\\n  & <int> & <int> & <int> & <chr> & <chr> & <chr> & <dbl> & <int> & <int> & <chr> & <dbl> & <chr> & <chr>\\\\\n\\hline\n\t1 & 1 & 892 & 0 & 3rd & Kelly, Mr. James                             & male   & 34.5 & 0 & 0 & 330911  &  7.8292 &  & Q\\\\\n\t2 & 2 & 893 & 1 & 3rd & Wilkes, Mrs. James (Ellen Needs)             & female & 47.0 & 1 & 0 & 363272  &  7.0000 &  & S\\\\\n\t3 & 3 & 894 & 0 & 2nd & Myles, Mr. Thomas Francis                    & male   & 62.0 & 0 & 0 & 240276  &  9.6875 &  & Q\\\\\n\t4 & 4 & 895 & 0 & 3rd & Wirz, Mr. Albert                             & male   & 27.0 & 0 & 0 & 315154  &  8.6625 &  & S\\\\\n\t5 & 5 & 896 & 1 & 3rd & Hirvonen, Mrs. Alexander (Helga E Lindqvist) & female & 22.0 & 1 & 1 & 3101298 & 12.2875 &  & S\\\\\n\t6 & 6 & 897 & 0 & 3rd & Svensson, Mr. Johan Cervin                   & male   & 14.0 & 0 & 0 & 7538    &  9.2250 &  & S\\\\\n\\end{tabular}\n",
            "text/plain": [
              "  X PassengerId Survived Pclass Name                                        \n",
              "1 1 892         0        3rd    Kelly, Mr. James                            \n",
              "2 2 893         1        3rd    Wilkes, Mrs. James (Ellen Needs)            \n",
              "3 3 894         0        2nd    Myles, Mr. Thomas Francis                   \n",
              "4 4 895         0        3rd    Wirz, Mr. Albert                            \n",
              "5 5 896         1        3rd    Hirvonen, Mrs. Alexander (Helga E Lindqvist)\n",
              "6 6 897         0        3rd    Svensson, Mr. Johan Cervin                  \n",
              "  Sex    Age  SibSp Parch Ticket  Fare    Cabin Embarked\n",
              "1 male   34.5 0     0     330911   7.8292       Q       \n",
              "2 female 47.0 1     0     363272   7.0000       S       \n",
              "3 male   62.0 0     0     240276   9.6875       Q       \n",
              "4 male   27.0 0     0     315154   8.6625       S       \n",
              "5 female 22.0 1     1     3101298 12.2875       S       \n",
              "6 male   14.0 0     0     7538     9.2250       S       "
            ]
          },
          "metadata": {}
        }
      ],
      "source": [
        "url = \"https://raw.githubusercontent.com/ctruciosm/ctruciosm.github.io/master/datasets/titanic.csv\"\n",
        "titanic = read.csv(url)\n",
        "head(titanic)  # mostra as primeiras linhas do dataset"
      ]
    },
    {
      "cell_type": "markdown",
      "source": [
        "O pacote `dplyr` é bastante utilizado para manupulacao do banco de dados."
      ],
      "metadata": {
        "id": "oW7BwIA6-yPg"
      }
    },
    {
      "cell_type": "code",
      "source": [
        "# Para instalar\n",
        "# install.packages(\"dplyr\")\n",
        "# Para carregar\n",
        "library(dplyr)  # Toda vez (por sessao) que for utilizar"
      ],
      "metadata": {
        "colab": {
          "base_uri": "https://localhost:8080/"
        },
        "id": "iNFdF1Gu-5Qf",
        "outputId": "843cf3ef-3dfe-4ea9-f01c-7d71ef599f27"
      },
      "execution_count": 2,
      "outputs": [
        {
          "output_type": "stream",
          "name": "stderr",
          "text": [
            "\n",
            "Attaching package: ‘dplyr’\n",
            "\n",
            "\n",
            "The following objects are masked from ‘package:stats’:\n",
            "\n",
            "    filter, lag\n",
            "\n",
            "\n",
            "The following objects are masked from ‘package:base’:\n",
            "\n",
            "    intersect, setdiff, setequal, union\n",
            "\n",
            "\n"
          ]
        }
      ]
    },
    {
      "cell_type": "code",
      "source": [
        "glimpse(titanic)  # para ver rapidamente a estrutura dos dados"
      ],
      "metadata": {
        "colab": {
          "base_uri": "https://localhost:8080/"
        },
        "id": "zlUtXQklAb3o",
        "outputId": "a13bf6b8-cc32-4721-85ba-c1b1a20c8a0a"
      },
      "execution_count": 3,
      "outputs": [
        {
          "output_type": "stream",
          "name": "stdout",
          "text": [
            "Rows: 1,309\n",
            "Columns: 13\n",
            "$ X           \u001b[3m\u001b[90m<int>\u001b[39m\u001b[23m 1, 2, 3, 4, 5, 6, 7, 8, 9, 10, 11, 12, 13, 14, 15, 16, 17,…\n",
            "$ PassengerId \u001b[3m\u001b[90m<int>\u001b[39m\u001b[23m 892, 893, 894, 895, 896, 897, 898, 899, 900, 901, 902, 903…\n",
            "$ Survived    \u001b[3m\u001b[90m<int>\u001b[39m\u001b[23m 0, 1, 0, 0, 1, 0, 1, 0, 1, 0, 0, 0, 1, 0, 1, 1, 0, 0, 1, 1…\n",
            "$ Pclass      \u001b[3m\u001b[90m<chr>\u001b[39m\u001b[23m \"3rd\", \"3rd\", \"2nd\", \"3rd\", \"3rd\", \"3rd\", \"3rd\", \"2nd\", \"3…\n",
            "$ Name        \u001b[3m\u001b[90m<chr>\u001b[39m\u001b[23m \"Kelly, Mr. James\", \"Wilkes, Mrs. James (Ellen Needs)\", \"M…\n",
            "$ Sex         \u001b[3m\u001b[90m<chr>\u001b[39m\u001b[23m \"male\", \"female\", \"male\", \"male\", \"female\", \"male\", \"femal…\n",
            "$ Age         \u001b[3m\u001b[90m<dbl>\u001b[39m\u001b[23m 34.5, 47.0, 62.0, 27.0, 22.0, 14.0, 30.0, 26.0, 18.0, 21.0…\n",
            "$ SibSp       \u001b[3m\u001b[90m<int>\u001b[39m\u001b[23m 0, 1, 0, 0, 1, 0, 0, 1, 0, 2, 0, 0, 1, 1, 1, 1, 0, 0, 1, 0…\n",
            "$ Parch       \u001b[3m\u001b[90m<int>\u001b[39m\u001b[23m 0, 0, 0, 0, 1, 0, 0, 1, 0, 0, 0, 0, 0, 0, 0, 0, 0, 0, 0, 0…\n",
            "$ Ticket      \u001b[3m\u001b[90m<chr>\u001b[39m\u001b[23m \"330911\", \"363272\", \"240276\", \"315154\", \"3101298\", \"7538\",…\n",
            "$ Fare        \u001b[3m\u001b[90m<dbl>\u001b[39m\u001b[23m 7.8292, 7.0000, 9.6875, 8.6625, 12.2875, 9.2250, 7.6292, 2…\n",
            "$ Cabin       \u001b[3m\u001b[90m<chr>\u001b[39m\u001b[23m \"\", \"\", \"\", \"\", \"\", \"\", \"\", \"\", \"\", \"\", \"\", \"\", \"B45\", \"\",…\n",
            "$ Embarked    \u001b[3m\u001b[90m<chr>\u001b[39m\u001b[23m \"Q\", \"S\", \"Q\", \"S\", \"S\", \"S\", \"Q\", \"S\", \"C\", \"S\", \"S\", \"S\"…\n"
          ]
        }
      ]
    },
    {
      "cell_type": "code",
      "source": [
        "# Tabelas de Frequencia\n",
        "## funcao table calcula tabela de frequencias\n",
        "table(titanic$Pclass)   # \"$\" é para selecionar variavel"
      ],
      "metadata": {
        "colab": {
          "base_uri": "https://localhost:8080/",
          "height": 72
        },
        "id": "2eaF7n2XA3bu",
        "outputId": "a3231529-689b-4e98-e455-469b510de369"
      },
      "execution_count": 5,
      "outputs": [
        {
          "output_type": "display_data",
          "data": {
            "text/plain": [
              "\n",
              "1st 2nd 3rd \n",
              "323 277 709 "
            ]
          },
          "metadata": {}
        }
      ]
    },
    {
      "cell_type": "code",
      "source": [
        "help(table)  # help() serve para abrir a documentacao da funcao"
      ],
      "metadata": {
        "id": "LNpusMJBBbri"
      },
      "execution_count": 6,
      "outputs": []
    },
    {
      "cell_type": "code",
      "source": [
        "prop.table(table(titanic$Pclass))  # Frequencia relativa"
      ],
      "metadata": {
        "colab": {
          "base_uri": "https://localhost:8080/",
          "height": 72
        },
        "id": "2QVbeqbRBoWc",
        "outputId": "4f908437-5b5f-49ba-9a2b-aaecb78ad0ad"
      },
      "execution_count": 7,
      "outputs": [
        {
          "output_type": "display_data",
          "data": {
            "text/plain": [
              "\n",
              "      1st       2nd       3rd \n",
              "0.2467532 0.2116119 0.5416348 "
            ]
          },
          "metadata": {}
        }
      ]
    },
    {
      "cell_type": "code",
      "source": [
        "100*prop.table(table(titanic$Pclass))  # Frequencia %"
      ],
      "metadata": {
        "colab": {
          "base_uri": "https://localhost:8080/",
          "height": 72
        },
        "id": "rqT3YZ49B-9w",
        "outputId": "de462904-21e9-47ae-bce2-96411cf40b08"
      },
      "execution_count": 8,
      "outputs": [
        {
          "output_type": "display_data",
          "data": {
            "text/plain": [
              "\n",
              "     1st      2nd      3rd \n",
              "24.67532 21.16119 54.16348 "
            ]
          },
          "metadata": {}
        }
      ]
    },
    {
      "cell_type": "code",
      "source": [
        "# Tabela de Freq: add margens\n",
        "addmargins(table(titanic$Pclass))"
      ],
      "metadata": {
        "colab": {
          "base_uri": "https://localhost:8080/",
          "height": 72
        },
        "id": "Pw-qYBwACKiT",
        "outputId": "b123fb21-38cb-46bd-fc5b-2be990523aaf"
      },
      "execution_count": 10,
      "outputs": [
        {
          "output_type": "display_data",
          "data": {
            "text/plain": [
              "\n",
              " 1st  2nd  3rd  Sum \n",
              " 323  277  709 1309 "
            ]
          },
          "metadata": {}
        }
      ]
    },
    {
      "cell_type": "code",
      "source": [
        "addmargins(prop.table(table(titanic$Pclass)))"
      ],
      "metadata": {
        "colab": {
          "base_uri": "https://localhost:8080/",
          "height": 72
        },
        "id": "Ktn3ca2HCyHP",
        "outputId": "7e0a551f-d849-4c22-cc6e-38cade820b2f"
      },
      "execution_count": 11,
      "outputs": [
        {
          "output_type": "display_data",
          "data": {
            "text/plain": [
              "\n",
              "      1st       2nd       3rd       Sum \n",
              "0.2467532 0.2116119 0.5416348 1.0000000 "
            ]
          },
          "metadata": {}
        }
      ]
    },
    {
      "cell_type": "code",
      "source": [
        "# Forma alternativa: utilizando o \"pipe\" (%>%) no Rstudio: ctrl + m\n",
        "titanic %>% select(Pclass) %>% table() %>% prop.table() %>% addmargins()"
      ],
      "metadata": {
        "colab": {
          "base_uri": "https://localhost:8080/",
          "height": 72
        },
        "id": "g35WP94IDKKP",
        "outputId": "0ad6881c-aa9e-4f4e-9bf1-86f2d8bfe233"
      },
      "execution_count": 14,
      "outputs": [
        {
          "output_type": "display_data",
          "data": {
            "text/plain": [
              "Pclass\n",
              "      1st       2nd       3rd       Sum \n",
              "0.2467532 0.2116119 0.5416348 1.0000000 "
            ]
          },
          "metadata": {}
        }
      ]
    },
    {
      "cell_type": "code",
      "source": [
        "barplot(table(titanic$Pclass), main = \"Grafico de barras\")"
      ],
      "metadata": {
        "colab": {
          "base_uri": "https://localhost:8080/",
          "height": 437
        },
        "id": "YAyG7YgdDvj_",
        "outputId": "8a6568a8-e3c6-4629-e89b-62c25999a4b0"
      },
      "execution_count": 17,
      "outputs": [
        {
          "output_type": "display_data",
          "data": {
            "text/plain": [
              "Plot with title “Grafico de barras”"
            ],
            "image/png": "[encoded data removed]"
          },
          "metadata": {
            "image/png": {
              "width": 420,
              "height": 420
            }
          }
        }
      ]
    },
    {
      "cell_type": "code",
      "source": [
        "pie(prop.table(table(titanic$Pclass)))"
      ],
      "metadata": {
        "colab": {
          "base_uri": "https://localhost:8080/",
          "height": 437
        },
        "id": "IJHbaZnvEMhD",
        "outputId": "51bc3079-23c1-4611-ced4-99b0720a1f32"
      },
      "execution_count": 19,
      "outputs": [
        {
          "output_type": "display_data",
          "data": {
            "text/plain": [
              "plot without title"
            ],
            "image/png": "[encoded data removed]"
          },
          "metadata": {
            "image/png": {
              "width": 420,
              "height": 420
            }
          }
        }
      ]
    },
    {
      "cell_type": "code",
      "source": [
        "proportion <- prop.table(table(titanic$Pclass))\n",
        "lbls <- paste(names(proportion), paste(round(as.numeric(proportion)*100,2),\"%\",sep=\"\"), sep = \", \")\n",
        "pie(proportion, labels = lbls, col=rainbow(length(lbls)), main = \"Distribuição dos passagéiros do Titanic segundo a classe da passagem\")\n"
      ],
      "metadata": {
        "colab": {
          "base_uri": "https://localhost:8080/",
          "height": 437
        },
        "id": "YUMowHncFkO-",
        "outputId": "a4c9b2b5-9636-4af3-a39a-3b8d7440e835"
      },
      "execution_count": 21,
      "outputs": [
        {
          "output_type": "display_data",
          "data": {
            "text/plain": [
              "Plot with title “Distribuição dos passagéiros do Titanic segundo a classe da passagem”"
            ],
            "image/png": "[encoded data removed]"
          },
          "metadata": {
            "image/png": {
              "width": 420,
              "height": 420
            }
          }
        }
      ]
    },
    {
      "cell_type": "code",
      "source": [
        "# Utilizar a variável sexo e fazer tabelas de frequencia e grafico de barras\n",
        "\n",
        "prop.table(table(titanic$Sex))"
      ],
      "metadata": {
        "colab": {
          "base_uri": "https://localhost:8080/",
          "height": 72
        },
        "id": "hZCA3eyuGApm",
        "outputId": "2eb5a90e-c7f7-4276-ce31-320a521f6d7e"
      },
      "execution_count": 23,
      "outputs": [
        {
          "output_type": "display_data",
          "data": {
            "text/plain": [
              "\n",
              "   female      male \n",
              "0.3559969 0.6440031 "
            ]
          },
          "metadata": {}
        }
      ]
    },
    {
      "cell_type": "code",
      "source": [
        "barplot(table(titanic$Sex))"
      ],
      "metadata": {
        "colab": {
          "base_uri": "https://localhost:8080/",
          "height": 437
        },
        "id": "RjYZWD3pIXGC",
        "outputId": "c7525dd4-753c-456a-c310-57195d08cd31"
      },
      "execution_count": 24,
      "outputs": [
        {
          "output_type": "display_data",
          "data": {
            "text/plain": [
              "plot without title"
            ],
            "image/png": "[encoded data removed]"
          },
          "metadata": {
            "image/png": {
              "width": 420,
              "height": 420
            }
          }
        }
      ]
    },
    {
      "cell_type": "code",
      "source": [
        "barplot(prop.table(table(titanic$Sex)))"
      ],
      "metadata": {
        "colab": {
          "base_uri": "https://localhost:8080/",
          "height": 437
        },
        "id": "FFYVDJ5zIama",
        "outputId": "8ef27ab8-fd27-4450-a77d-6178b0c273bc"
      },
      "execution_count": 25,
      "outputs": [
        {
          "output_type": "display_data",
          "data": {
            "text/plain": [
              "plot without title"
            ],
            "image/png": "[encoded data removed]"
          },
          "metadata": {
            "image/png": {
              "width": 420,
              "height": 420
            }
          }
        }
      ]
    },
    {
      "cell_type": "code",
      "source": [
        "# E se quisermos uma tabela de continguencia entre Pclass e Sex?\n",
        "\n",
        "table(titanic$Pclass, titanic$Sex)"
      ],
      "metadata": {
        "colab": {
          "base_uri": "https://localhost:8080/",
          "height": 109
        },
        "id": "l0Z4p0IoIjTG",
        "outputId": "174a95cb-f0cd-4643-f9b1-aa8c6dc55a03"
      },
      "execution_count": 26,
      "outputs": [
        {
          "output_type": "display_data",
          "data": {
            "text/plain": [
              "     \n",
              "      female male\n",
              "  1st    144  179\n",
              "  2nd    106  171\n",
              "  3rd    216  493"
            ]
          },
          "metadata": {}
        }
      ]
    },
    {
      "cell_type": "code",
      "source": [
        "addmargins(table(titanic$Pclass, titanic$Sex))"
      ],
      "metadata": {
        "colab": {
          "base_uri": "https://localhost:8080/",
          "height": 192
        },
        "id": "sk6MDrjkI3e5",
        "outputId": "351a257c-8636-40cd-847f-9f126f39495e"
      },
      "execution_count": 27,
      "outputs": [
        {
          "output_type": "display_data",
          "data": {
            "text/html": [
              "<table class=\"dataframe\">\n",
              "<caption>A table: 4 × 3 of type dbl</caption>\n",
              "<thead>\n",
              "\t<tr><th></th><th scope=col>female</th><th scope=col>male</th><th scope=col>Sum</th></tr>\n",
              "</thead>\n",
              "<tbody>\n",
              "\t<tr><th scope=row>1st</th><td>144</td><td>179</td><td> 323</td></tr>\n",
              "\t<tr><th scope=row>2nd</th><td>106</td><td>171</td><td> 277</td></tr>\n",
              "\t<tr><th scope=row>3rd</th><td>216</td><td>493</td><td> 709</td></tr>\n",
              "\t<tr><th scope=row>Sum</th><td>466</td><td>843</td><td>1309</td></tr>\n",
              "</tbody>\n",
              "</table>\n"
            ],
            "text/markdown": "\nA table: 4 × 3 of type dbl\n\n| <!--/--> | female | male | Sum |\n|---|---|---|---|\n| 1st | 144 | 179 |  323 |\n| 2nd | 106 | 171 |  277 |\n| 3rd | 216 | 493 |  709 |\n| Sum | 466 | 843 | 1309 |\n\n",
            "text/latex": "A table: 4 × 3 of type dbl\n\\begin{tabular}{r|lll}\n  & female & male & Sum\\\\\n\\hline\n\t1st & 144 & 179 &  323\\\\\n\t2nd & 106 & 171 &  277\\\\\n\t3rd & 216 & 493 &  709\\\\\n\tSum & 466 & 843 & 1309\\\\\n\\end{tabular}\n",
            "text/plain": [
              "     \n",
              "      female male Sum \n",
              "  1st 144    179   323\n",
              "  2nd 106    171   277\n",
              "  3rd 216    493   709\n",
              "  Sum 466    843  1309"
            ]
          },
          "metadata": {}
        }
      ]
    },
    {
      "cell_type": "code",
      "source": [
        "addmargins(prop.table(table(titanic$Pclass, titanic$Sex)))"
      ],
      "metadata": {
        "colab": {
          "base_uri": "https://localhost:8080/",
          "height": 192
        },
        "id": "Ab_Br96zJFMs",
        "outputId": "97f19208-23f4-4ec8-8cee-998042686648"
      },
      "execution_count": 28,
      "outputs": [
        {
          "output_type": "display_data",
          "data": {
            "text/html": [
              "<table class=\"dataframe\">\n",
              "<caption>A table: 4 × 3 of type dbl</caption>\n",
              "<thead>\n",
              "\t<tr><th></th><th scope=col>female</th><th scope=col>male</th><th scope=col>Sum</th></tr>\n",
              "</thead>\n",
              "<tbody>\n",
              "\t<tr><th scope=row>1st</th><td>0.11000764</td><td>0.1367456</td><td>0.2467532</td></tr>\n",
              "\t<tr><th scope=row>2nd</th><td>0.08097785</td><td>0.1306341</td><td>0.2116119</td></tr>\n",
              "\t<tr><th scope=row>3rd</th><td>0.16501146</td><td>0.3766234</td><td>0.5416348</td></tr>\n",
              "\t<tr><th scope=row>Sum</th><td>0.35599694</td><td>0.6440031</td><td>1.0000000</td></tr>\n",
              "</tbody>\n",
              "</table>\n"
            ],
            "text/markdown": "\nA table: 4 × 3 of type dbl\n\n| <!--/--> | female | male | Sum |\n|---|---|---|---|\n| 1st | 0.11000764 | 0.1367456 | 0.2467532 |\n| 2nd | 0.08097785 | 0.1306341 | 0.2116119 |\n| 3rd | 0.16501146 | 0.3766234 | 0.5416348 |\n| Sum | 0.35599694 | 0.6440031 | 1.0000000 |\n\n",
            "text/latex": "A table: 4 × 3 of type dbl\n\\begin{tabular}{r|lll}\n  & female & male & Sum\\\\\n\\hline\n\t1st & 0.11000764 & 0.1367456 & 0.2467532\\\\\n\t2nd & 0.08097785 & 0.1306341 & 0.2116119\\\\\n\t3rd & 0.16501146 & 0.3766234 & 0.5416348\\\\\n\tSum & 0.35599694 & 0.6440031 & 1.0000000\\\\\n\\end{tabular}\n",
            "text/plain": [
              "     \n",
              "      female     male      Sum      \n",
              "  1st 0.11000764 0.1367456 0.2467532\n",
              "  2nd 0.08097785 0.1306341 0.2116119\n",
              "  3rd 0.16501146 0.3766234 0.5416348\n",
              "  Sum 0.35599694 0.6440031 1.0000000"
            ]
          },
          "metadata": {}
        }
      ]
    },
    {
      "cell_type": "code",
      "source": [
        "# Fazer uma tabela de freq. relativa das variaveis sex e survived"
      ],
      "metadata": {
        "id": "Z-y4Zy-TJuub"
      },
      "execution_count": null,
      "outputs": []
    },
    {
      "cell_type": "code",
      "source": [
        "titanic$Survived2 = factor(titanic$Survived, label = c(\"morreu\", \"nao morreu\"))"
      ],
      "metadata": {
        "id": "lFVWEL5ZKygS"
      },
      "execution_count": 30,
      "outputs": []
    },
    {
      "cell_type": "code",
      "source": [
        "table(titanic$Sex, titanic$Survived2)"
      ],
      "metadata": {
        "colab": {
          "base_uri": "https://localhost:8080/",
          "height": 90
        },
        "id": "kC-shnENK9FY",
        "outputId": "46bd0757-5f61-487f-c788-7cec05721106"
      },
      "execution_count": 31,
      "outputs": [
        {
          "output_type": "display_data",
          "data": {
            "text/plain": [
              "        \n",
              "         morreu nao morreu\n",
              "  female     81        385\n",
              "  male      734        109"
            ]
          },
          "metadata": {}
        }
      ]
    }
  ]
}