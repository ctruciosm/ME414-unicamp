{
  "nbformat": 4,
  "nbformat_minor": 0,
  "metadata": {
    "colab": {
      "provenance": [],
      "authorship_tag": "ABX9TyMoWQikNNgEaNlR7wlfAoG/",
      "include_colab_link": true
    },
    "kernelspec": {
      "name": "ir",
      "display_name": "R"
    },
    "language_info": {
      "name": "R"
    }
  },
  "cells": [
    {
      "cell_type": "markdown",
      "metadata": {
        "id": "view-in-github",
        "colab_type": "text"
      },
      "source": [
        "<a href=\"https://colab.research.google.com/github/ctruciosm/ME414-unicamp/blob/main/LabR02_ME414.ipynb\" target=\"_parent\"><img src=\"https://colab.research.google.com/assets/colab-badge.svg\" alt=\"Open In Colab\"/></a>"
      ]
    },
    {
      "cell_type": "markdown",
      "source": [
        "# Lista 01"
      ],
      "metadata": {
        "id": "qLj53YqI-tZ0"
      }
    },
    {
      "cell_type": "code",
      "execution_count": null,
      "metadata": {
        "colab": {
          "base_uri": "https://localhost:8080/",
          "height": 52
        },
        "id": "zzA5xiGb-hs_",
        "outputId": "78b1b908-ba00-484b-d4c0-c1c1aa503e3f"
      },
      "outputs": [
        {
          "output_type": "display_data",
          "data": {
            "text/html": [
              "<style>\n",
              ".list-inline {list-style: none; margin:0; padding: 0}\n",
              ".list-inline>li {display: inline-block}\n",
              ".list-inline>li:not(:last-child)::after {content: \"\\00b7\"; padding: 0 .5ex}\n",
              "</style>\n",
              "<ol class=list-inline><li>97</li><li>120</li><li>110</li><li>130</li><li>160</li><li>150</li><li>135</li><li>143</li><li>107</li><li>100</li><li>110</li><li>170</li><li>137</li><li>124</li><li>118</li><li>131</li><li>127</li><li>160</li><li>145</li><li>143</li><li>122</li><li>138</li><li>150</li><li>160</li><li>120</li><li>108</li><li>160</li></ol>\n"
            ],
            "text/markdown": "1. 97\n2. 120\n3. 110\n4. 130\n5. 160\n6. 150\n7. 135\n8. 143\n9. 107\n10. 100\n11. 110\n12. 170\n13. 137\n14. 124\n15. 118\n16. 131\n17. 127\n18. 160\n19. 145\n20. 143\n21. 122\n22. 138\n23. 150\n24. 160\n25. 120\n26. 108\n27. 160\n\n\n",
            "text/latex": "\\begin{enumerate*}\n\\item 97\n\\item 120\n\\item 110\n\\item 130\n\\item 160\n\\item 150\n\\item 135\n\\item 143\n\\item 107\n\\item 100\n\\item 110\n\\item 170\n\\item 137\n\\item 124\n\\item 118\n\\item 131\n\\item 127\n\\item 160\n\\item 145\n\\item 143\n\\item 122\n\\item 138\n\\item 150\n\\item 160\n\\item 120\n\\item 108\n\\item 160\n\\end{enumerate*}\n",
            "text/plain": [
              " [1]  97 120 110 130 160 150 135 143 107 100 110 170 137 124 118 131 127 160 145\n",
              "[20] 143 122 138 150 160 120 108 160"
            ]
          },
          "metadata": {}
        }
      ],
      "source": [
        "# criando um vetor de dados\n",
        "precos = c(97, 120, 110, 130, 160, 150, 135, 143, 107, 100, 110, 170, 137, 124, 118,\n",
        "           131, 127, 160, 145, 143, 122, 138, 150, 160, 120, 108, 160)\n",
        "precos"
      ]
    },
    {
      "cell_type": "code",
      "source": [
        "# 1.a)\n",
        "mean(precos) # media\n",
        "round(mean(precos), 4)  # arredonda par 4 decimais"
      ],
      "metadata": {
        "colab": {
          "base_uri": "https://localhost:8080/",
          "height": 52
        },
        "id": "hTTNvAl_APaV",
        "outputId": "fd3a0396-c7b3-4a87-9fb1-d1950d73bdd0"
      },
      "execution_count": null,
      "outputs": [
        {
          "output_type": "display_data",
          "data": {
            "text/html": [
              "132.407407407407"
            ],
            "text/markdown": "132.407407407407",
            "text/latex": "132.407407407407",
            "text/plain": [
              "[1] 132.4074"
            ]
          },
          "metadata": {}
        },
        {
          "output_type": "display_data",
          "data": {
            "text/html": [
              "132.4074"
            ],
            "text/markdown": "132.4074",
            "text/latex": "132.4074",
            "text/plain": [
              "[1] 132.4074"
            ]
          },
          "metadata": {}
        }
      ]
    },
    {
      "cell_type": "code",
      "source": [
        "# 1.b)\n",
        "median(precos)  # mediana"
      ],
      "metadata": {
        "colab": {
          "base_uri": "https://localhost:8080/",
          "height": 34
        },
        "id": "IXnZ-VyXAsnk",
        "outputId": "4b73abc0-6387-41cc-e068-0844a40b7744"
      },
      "execution_count": null,
      "outputs": [
        {
          "output_type": "display_data",
          "data": {
            "text/html": [
              "131"
            ],
            "text/markdown": "131",
            "text/latex": "131",
            "text/plain": [
              "[1] 131"
            ]
          },
          "metadata": {}
        }
      ]
    },
    {
      "cell_type": "code",
      "source": [
        "# 1.c)\n",
        "table(precos)  #moda\n",
        "## a moda eh quem acontece com maior frequencia. Neste caso 160 (4x)"
      ],
      "metadata": {
        "colab": {
          "base_uri": "https://localhost:8080/",
          "height": 69
        },
        "id": "pDKzrsbZBKI0",
        "outputId": "e5cbe3f7-b942-454c-f32c-8bb24b06a068"
      },
      "execution_count": null,
      "outputs": [
        {
          "output_type": "display_data",
          "data": {
            "text/plain": [
              "precos\n",
              " 97 100 107 108 110 118 120 122 124 127 130 131 135 137 138 143 145 150 160 170 \n",
              "  1   1   1   1   2   1   2   1   1   1   1   1   1   1   1   2   1   2   4   1 "
            ]
          },
          "metadata": {}
        }
      ]
    },
    {
      "cell_type": "code",
      "source": [
        "# 1.d)\n",
        "quantile(precos, 0.25)  # percentil 25 = quartil 1 (Q1)"
      ],
      "metadata": {
        "colab": {
          "base_uri": "https://localhost:8080/",
          "height": 34
        },
        "id": "c220pE3-BkLc",
        "outputId": "5ffdc902-d070-4efb-9573-f4c0d540e009"
      },
      "execution_count": null,
      "outputs": [
        {
          "output_type": "display_data",
          "data": {
            "text/html": [
              "<strong>25%:</strong> 119"
            ],
            "text/markdown": "**25%:** 119",
            "text/latex": "\\textbf{25\\textbackslash{}\\%:} 119",
            "text/plain": [
              "25% \n",
              "119 "
            ]
          },
          "metadata": {}
        }
      ]
    },
    {
      "cell_type": "code",
      "source": [
        "prop.table(table(precos <= 119)) # apenas verificando"
      ],
      "metadata": {
        "colab": {
          "base_uri": "https://localhost:8080/",
          "height": 69
        },
        "id": "kqLJZ1XiCF7M",
        "outputId": "328487f8-f5ce-4492-ffcc-be4c81650e55"
      },
      "execution_count": null,
      "outputs": [
        {
          "output_type": "display_data",
          "data": {
            "text/plain": [
              "\n",
              "    FALSE      TRUE \n",
              "0.7407407 0.2592593 "
            ]
          },
          "metadata": {}
        }
      ]
    },
    {
      "cell_type": "code",
      "source": [
        "# 1.e)\n",
        "quantile(precos, 0.75) # percentil 75 = quartil 3 (Q3)"
      ],
      "metadata": {
        "colab": {
          "base_uri": "https://localhost:8080/",
          "height": 34
        },
        "id": "ohv9DQNMCXVd",
        "outputId": "f3584676-46a1-4a90-e1e6-9c8a0cc41975"
      },
      "execution_count": null,
      "outputs": [
        {
          "output_type": "display_data",
          "data": {
            "text/html": [
              "<strong>75%:</strong> 147.5"
            ],
            "text/markdown": "**75%:** 147.5",
            "text/latex": "\\textbf{75\\textbackslash{}\\%:} 147.5",
            "text/plain": [
              "  75% \n",
              "147.5 "
            ]
          },
          "metadata": {}
        }
      ]
    },
    {
      "cell_type": "code",
      "source": [
        "# Lendo os dados de um arquivo csv\n",
        "url = \"https://raw.githubusercontent.com/ctruciosm/ME414-unicamp/main/dadosq1.csv\"\n",
        "Precos = read.csv(url)  # csv por padrao pensa que esta separado por \",\"\n",
        "Precos"
      ],
      "metadata": {
        "colab": {
          "base_uri": "https://localhost:8080/",
          "height": 944
        },
        "id": "mQzfWYH3C4Yk",
        "outputId": "9828a34e-9de2-4025-9744-ec2b2f2d91ab"
      },
      "execution_count": null,
      "outputs": [
        {
          "output_type": "display_data",
          "data": {
            "text/html": [
              "<table class=\"dataframe\">\n",
              "<caption>A data.frame: 27 × 1</caption>\n",
              "<thead>\n",
              "\t<tr><th scope=col>Estado.Sigla.Preço</th></tr>\n",
              "\t<tr><th scope=col>&lt;chr&gt;</th></tr>\n",
              "</thead>\n",
              "<tbody>\n",
              "\t<tr><td>Acre;AC;97                </td></tr>\n",
              "\t<tr><td>Alagoas;AL;120            </td></tr>\n",
              "\t<tr><td>Amapá;AP;110              </td></tr>\n",
              "\t<tr><td>Amazonas;AM;130           </td></tr>\n",
              "\t<tr><td>Bahia;BA;160              </td></tr>\n",
              "\t<tr><td>Ceará;CE;150              </td></tr>\n",
              "\t<tr><td>Espírito Santo;ES;135     </td></tr>\n",
              "\t<tr><td>Goiás;GO;143              </td></tr>\n",
              "\t<tr><td>Maranhão;MA;107           </td></tr>\n",
              "\t<tr><td>Mato Grosso;MT;100        </td></tr>\n",
              "\t<tr><td>Mato Grosso do Sul ;MS;110</td></tr>\n",
              "\t<tr><td>Minas Gerais;MG;170       </td></tr>\n",
              "\t<tr><td>Pará;PA;137               </td></tr>\n",
              "\t<tr><td>Paraíba;PB;124            </td></tr>\n",
              "\t<tr><td>Paraná;PR;118             </td></tr>\n",
              "\t<tr><td>Pernambuco;PE;131         </td></tr>\n",
              "\t<tr><td>Piauí;PI;127              </td></tr>\n",
              "\t<tr><td>Rio de Janeiro;RJ;160     </td></tr>\n",
              "\t<tr><td>Rio Grande do Norte;RN;145</td></tr>\n",
              "\t<tr><td>Rio Grande do Sul ;RS;143 </td></tr>\n",
              "\t<tr><td>Rondônia;RO;122           </td></tr>\n",
              "\t<tr><td>Roraima;RR;138            </td></tr>\n",
              "\t<tr><td>Santa Catarina ;SC;150    </td></tr>\n",
              "\t<tr><td>São Paulo;SP;160          </td></tr>\n",
              "\t<tr><td>Sergipe;SE;120            </td></tr>\n",
              "\t<tr><td>Tocantins;TO;108          </td></tr>\n",
              "\t<tr><td>Distrito Federal;DF;160   </td></tr>\n",
              "</tbody>\n",
              "</table>\n"
            ],
            "text/markdown": "\nA data.frame: 27 × 1\n\n| Estado.Sigla.Preço &lt;chr&gt; |\n|---|\n| Acre;AC;97                 |\n| Alagoas;AL;120             |\n| Amapá;AP;110               |\n| Amazonas;AM;130            |\n| Bahia;BA;160               |\n| Ceará;CE;150               |\n| Espírito Santo;ES;135      |\n| Goiás;GO;143               |\n| Maranhão;MA;107            |\n| Mato Grosso;MT;100         |\n| Mato Grosso do Sul ;MS;110 |\n| Minas Gerais;MG;170        |\n| Pará;PA;137                |\n| Paraíba;PB;124             |\n| Paraná;PR;118              |\n| Pernambuco;PE;131          |\n| Piauí;PI;127               |\n| Rio de Janeiro;RJ;160      |\n| Rio Grande do Norte;RN;145 |\n| Rio Grande do Sul ;RS;143  |\n| Rondônia;RO;122            |\n| Roraima;RR;138             |\n| Santa Catarina ;SC;150     |\n| São Paulo;SP;160           |\n| Sergipe;SE;120             |\n| Tocantins;TO;108           |\n| Distrito Federal;DF;160    |\n\n",
            "text/latex": "A data.frame: 27 × 1\n\\begin{tabular}{l}\n Estado.Sigla.Preço\\\\\n <chr>\\\\\n\\hline\n\t Acre;AC;97                \\\\\n\t Alagoas;AL;120            \\\\\n\t Amapá;AP;110              \\\\\n\t Amazonas;AM;130           \\\\\n\t Bahia;BA;160              \\\\\n\t Ceará;CE;150              \\\\\n\t Espírito Santo;ES;135     \\\\\n\t Goiás;GO;143              \\\\\n\t Maranhão;MA;107           \\\\\n\t Mato Grosso;MT;100        \\\\\n\t Mato Grosso do Sul ;MS;110\\\\\n\t Minas Gerais;MG;170       \\\\\n\t Pará;PA;137               \\\\\n\t Paraíba;PB;124            \\\\\n\t Paraná;PR;118             \\\\\n\t Pernambuco;PE;131         \\\\\n\t Piauí;PI;127              \\\\\n\t Rio de Janeiro;RJ;160     \\\\\n\t Rio Grande do Norte;RN;145\\\\\n\t Rio Grande do Sul ;RS;143 \\\\\n\t Rondônia;RO;122           \\\\\n\t Roraima;RR;138            \\\\\n\t Santa Catarina ;SC;150    \\\\\n\t São Paulo;SP;160          \\\\\n\t Sergipe;SE;120            \\\\\n\t Tocantins;TO;108          \\\\\n\t Distrito Federal;DF;160   \\\\\n\\end{tabular}\n",
            "text/plain": [
              "   Estado.Sigla.Preço        \n",
              "1  Acre;AC;97                \n",
              "2  Alagoas;AL;120            \n",
              "3  Amapá;AP;110              \n",
              "4  Amazonas;AM;130           \n",
              "5  Bahia;BA;160              \n",
              "6  Ceará;CE;150              \n",
              "7  Espírito Santo;ES;135     \n",
              "8  Goiás;GO;143              \n",
              "9  Maranhão;MA;107           \n",
              "10 Mato Grosso;MT;100        \n",
              "11 Mato Grosso do Sul ;MS;110\n",
              "12 Minas Gerais;MG;170       \n",
              "13 Pará;PA;137               \n",
              "14 Paraíba;PB;124            \n",
              "15 Paraná;PR;118             \n",
              "16 Pernambuco;PE;131         \n",
              "17 Piauí;PI;127              \n",
              "18 Rio de Janeiro;RJ;160     \n",
              "19 Rio Grande do Norte;RN;145\n",
              "20 Rio Grande do Sul ;RS;143 \n",
              "21 Rondônia;RO;122           \n",
              "22 Roraima;RR;138            \n",
              "23 Santa Catarina ;SC;150    \n",
              "24 São Paulo;SP;160          \n",
              "25 Sergipe;SE;120            \n",
              "26 Tocantins;TO;108          \n",
              "27 Distrito Federal;DF;160   "
            ]
          },
          "metadata": {}
        }
      ]
    },
    {
      "cell_type": "code",
      "source": [
        "Precos = read.csv(url, sep = \";\")\n",
        "Precos"
      ],
      "metadata": {
        "colab": {
          "base_uri": "https://localhost:8080/",
          "height": 944
        },
        "id": "NCjQu8xoDnsM",
        "outputId": "a60816e4-7835-4ee3-a1c3-5509e6f44203"
      },
      "execution_count": null,
      "outputs": [
        {
          "output_type": "display_data",
          "data": {
            "text/html": [
              "<table class=\"dataframe\">\n",
              "<caption>A data.frame: 27 × 3</caption>\n",
              "<thead>\n",
              "\t<tr><th scope=col>Estado</th><th scope=col>Sigla</th><th scope=col>Preço</th></tr>\n",
              "\t<tr><th scope=col>&lt;chr&gt;</th><th scope=col>&lt;chr&gt;</th><th scope=col>&lt;int&gt;</th></tr>\n",
              "</thead>\n",
              "<tbody>\n",
              "\t<tr><td>Acre               </td><td>AC</td><td> 97</td></tr>\n",
              "\t<tr><td>Alagoas            </td><td>AL</td><td>120</td></tr>\n",
              "\t<tr><td>Amapá              </td><td>AP</td><td>110</td></tr>\n",
              "\t<tr><td>Amazonas           </td><td>AM</td><td>130</td></tr>\n",
              "\t<tr><td>Bahia              </td><td>BA</td><td>160</td></tr>\n",
              "\t<tr><td>Ceará              </td><td>CE</td><td>150</td></tr>\n",
              "\t<tr><td>Espírito Santo     </td><td>ES</td><td>135</td></tr>\n",
              "\t<tr><td>Goiás              </td><td>GO</td><td>143</td></tr>\n",
              "\t<tr><td>Maranhão           </td><td>MA</td><td>107</td></tr>\n",
              "\t<tr><td>Mato Grosso        </td><td>MT</td><td>100</td></tr>\n",
              "\t<tr><td>Mato Grosso do Sul </td><td>MS</td><td>110</td></tr>\n",
              "\t<tr><td>Minas Gerais       </td><td>MG</td><td>170</td></tr>\n",
              "\t<tr><td>Pará               </td><td>PA</td><td>137</td></tr>\n",
              "\t<tr><td>Paraíba            </td><td>PB</td><td>124</td></tr>\n",
              "\t<tr><td>Paraná             </td><td>PR</td><td>118</td></tr>\n",
              "\t<tr><td>Pernambuco         </td><td>PE</td><td>131</td></tr>\n",
              "\t<tr><td>Piauí              </td><td>PI</td><td>127</td></tr>\n",
              "\t<tr><td>Rio de Janeiro     </td><td>RJ</td><td>160</td></tr>\n",
              "\t<tr><td>Rio Grande do Norte</td><td>RN</td><td>145</td></tr>\n",
              "\t<tr><td>Rio Grande do Sul  </td><td>RS</td><td>143</td></tr>\n",
              "\t<tr><td>Rondônia           </td><td>RO</td><td>122</td></tr>\n",
              "\t<tr><td>Roraima            </td><td>RR</td><td>138</td></tr>\n",
              "\t<tr><td>Santa Catarina     </td><td>SC</td><td>150</td></tr>\n",
              "\t<tr><td>São Paulo          </td><td>SP</td><td>160</td></tr>\n",
              "\t<tr><td>Sergipe            </td><td>SE</td><td>120</td></tr>\n",
              "\t<tr><td>Tocantins          </td><td>TO</td><td>108</td></tr>\n",
              "\t<tr><td>Distrito Federal   </td><td>DF</td><td>160</td></tr>\n",
              "</tbody>\n",
              "</table>\n"
            ],
            "text/markdown": "\nA data.frame: 27 × 3\n\n| Estado &lt;chr&gt; | Sigla &lt;chr&gt; | Preço &lt;int&gt; |\n|---|---|---|\n| Acre                | AC |  97 |\n| Alagoas             | AL | 120 |\n| Amapá               | AP | 110 |\n| Amazonas            | AM | 130 |\n| Bahia               | BA | 160 |\n| Ceará               | CE | 150 |\n| Espírito Santo      | ES | 135 |\n| Goiás               | GO | 143 |\n| Maranhão            | MA | 107 |\n| Mato Grosso         | MT | 100 |\n| Mato Grosso do Sul  | MS | 110 |\n| Minas Gerais        | MG | 170 |\n| Pará                | PA | 137 |\n| Paraíba             | PB | 124 |\n| Paraná              | PR | 118 |\n| Pernambuco          | PE | 131 |\n| Piauí               | PI | 127 |\n| Rio de Janeiro      | RJ | 160 |\n| Rio Grande do Norte | RN | 145 |\n| Rio Grande do Sul   | RS | 143 |\n| Rondônia            | RO | 122 |\n| Roraima             | RR | 138 |\n| Santa Catarina      | SC | 150 |\n| São Paulo           | SP | 160 |\n| Sergipe             | SE | 120 |\n| Tocantins           | TO | 108 |\n| Distrito Federal    | DF | 160 |\n\n",
            "text/latex": "A data.frame: 27 × 3\n\\begin{tabular}{lll}\n Estado & Sigla & Preço\\\\\n <chr> & <chr> & <int>\\\\\n\\hline\n\t Acre                & AC &  97\\\\\n\t Alagoas             & AL & 120\\\\\n\t Amapá               & AP & 110\\\\\n\t Amazonas            & AM & 130\\\\\n\t Bahia               & BA & 160\\\\\n\t Ceará               & CE & 150\\\\\n\t Espírito Santo      & ES & 135\\\\\n\t Goiás               & GO & 143\\\\\n\t Maranhão            & MA & 107\\\\\n\t Mato Grosso         & MT & 100\\\\\n\t Mato Grosso do Sul  & MS & 110\\\\\n\t Minas Gerais        & MG & 170\\\\\n\t Pará                & PA & 137\\\\\n\t Paraíba             & PB & 124\\\\\n\t Paraná              & PR & 118\\\\\n\t Pernambuco          & PE & 131\\\\\n\t Piauí               & PI & 127\\\\\n\t Rio de Janeiro      & RJ & 160\\\\\n\t Rio Grande do Norte & RN & 145\\\\\n\t Rio Grande do Sul   & RS & 143\\\\\n\t Rondônia            & RO & 122\\\\\n\t Roraima             & RR & 138\\\\\n\t Santa Catarina      & SC & 150\\\\\n\t São Paulo           & SP & 160\\\\\n\t Sergipe             & SE & 120\\\\\n\t Tocantins           & TO & 108\\\\\n\t Distrito Federal    & DF & 160\\\\\n\\end{tabular}\n",
            "text/plain": [
              "   Estado              Sigla Preço\n",
              "1  Acre                AC     97  \n",
              "2  Alagoas             AL    120  \n",
              "3  Amapá               AP    110  \n",
              "4  Amazonas            AM    130  \n",
              "5  Bahia               BA    160  \n",
              "6  Ceará               CE    150  \n",
              "7  Espírito Santo      ES    135  \n",
              "8  Goiás               GO    143  \n",
              "9  Maranhão            MA    107  \n",
              "10 Mato Grosso         MT    100  \n",
              "11 Mato Grosso do Sul  MS    110  \n",
              "12 Minas Gerais        MG    170  \n",
              "13 Pará                PA    137  \n",
              "14 Paraíba             PB    124  \n",
              "15 Paraná              PR    118  \n",
              "16 Pernambuco          PE    131  \n",
              "17 Piauí               PI    127  \n",
              "18 Rio de Janeiro      RJ    160  \n",
              "19 Rio Grande do Norte RN    145  \n",
              "20 Rio Grande do Sul   RS    143  \n",
              "21 Rondônia            RO    122  \n",
              "22 Roraima             RR    138  \n",
              "23 Santa Catarina      SC    150  \n",
              "24 São Paulo           SP    160  \n",
              "25 Sergipe             SE    120  \n",
              "26 Tocantins           TO    108  \n",
              "27 Distrito Federal    DF    160  "
            ]
          },
          "metadata": {}
        }
      ]
    },
    {
      "cell_type": "code",
      "source": [
        "mean(Precos$`Preço`)  # sintaxe: nome_do_dataset$nome_da_variavel\n",
        "median(Precos$`Preço`)\n",
        "meus_percentis = c(0.1, 0.25, 0.75, 0.9)\n",
        "quantile(Precos$`Preço`, prob = meus_percentis)  # prob: vc passa os quantis que vc quer, podem ser multiplos"
      ],
      "metadata": {
        "colab": {
          "base_uri": "https://localhost:8080/",
          "height": 69
        },
        "id": "ZRJIOpMCD0q7",
        "outputId": "67182881-88ca-4078-9ce4-c35a27512c72"
      },
      "execution_count": null,
      "outputs": [
        {
          "output_type": "display_data",
          "data": {
            "text/html": [
              "132.407407407407"
            ],
            "text/markdown": "132.407407407407",
            "text/latex": "132.407407407407",
            "text/plain": [
              "[1] 132.4074"
            ]
          },
          "metadata": {}
        },
        {
          "output_type": "display_data",
          "data": {
            "text/html": [
              "131"
            ],
            "text/markdown": "131",
            "text/latex": "131",
            "text/plain": [
              "[1] 131"
            ]
          },
          "metadata": {}
        },
        {
          "output_type": "display_data",
          "data": {
            "text/html": [
              "<style>\n",
              ".dl-inline {width: auto; margin:0; padding: 0}\n",
              ".dl-inline>dt, .dl-inline>dd {float: none; width: auto; display: inline-block}\n",
              ".dl-inline>dt::after {content: \":\\0020\"; padding-right: .5ex}\n",
              ".dl-inline>dt:not(:first-of-type) {padding-left: .5ex}\n",
              "</style><dl class=dl-inline><dt>10%</dt><dd>107.6</dd><dt>25%</dt><dd>119</dd><dt>75%</dt><dd>147.5</dd><dt>90%</dt><dd>160</dd></dl>\n"
            ],
            "text/markdown": "10%\n:   107.625%\n:   11975%\n:   147.590%\n:   160\n\n",
            "text/latex": "\\begin{description*}\n\\item[10\\textbackslash{}\\%] 107.6\n\\item[25\\textbackslash{}\\%] 119\n\\item[75\\textbackslash{}\\%] 147.5\n\\item[90\\textbackslash{}\\%] 160\n\\end{description*}\n",
            "text/plain": [
              "  10%   25%   75%   90% \n",
              "107.6 119.0 147.5 160.0 "
            ]
          },
          "metadata": {}
        }
      ]
    },
    {
      "cell_type": "code",
      "source": [],
      "metadata": {
        "id": "A3Nt85oRHleU"
      },
      "execution_count": null,
      "outputs": []
    },
    {
      "cell_type": "code",
      "source": [
        "# cuidado com NAs\n",
        "precos\n",
        "precos[8]\n",
        "precos[8] = NA\n",
        "precos"
      ],
      "metadata": {
        "colab": {
          "base_uri": "https://localhost:8080/",
          "height": 104
        },
        "id": "7EoJjDMyERmL",
        "outputId": "92b4fec0-f631-48c6-9c74-13b37a12bf33"
      },
      "execution_count": null,
      "outputs": [
        {
          "output_type": "display_data",
          "data": {
            "text/html": [
              "<style>\n",
              ".list-inline {list-style: none; margin:0; padding: 0}\n",
              ".list-inline>li {display: inline-block}\n",
              ".list-inline>li:not(:last-child)::after {content: \"\\00b7\"; padding: 0 .5ex}\n",
              "</style>\n",
              "<ol class=list-inline><li>97</li><li>120</li><li>110</li><li>130</li><li>160</li><li>150</li><li>135</li><li>143</li><li>107</li><li>100</li><li>110</li><li>170</li><li>137</li><li>124</li><li>118</li><li>131</li><li>127</li><li>160</li><li>145</li><li>143</li><li>122</li><li>138</li><li>150</li><li>160</li><li>120</li><li>108</li><li>160</li></ol>\n"
            ],
            "text/markdown": "1. 97\n2. 120\n3. 110\n4. 130\n5. 160\n6. 150\n7. 135\n8. 143\n9. 107\n10. 100\n11. 110\n12. 170\n13. 137\n14. 124\n15. 118\n16. 131\n17. 127\n18. 160\n19. 145\n20. 143\n21. 122\n22. 138\n23. 150\n24. 160\n25. 120\n26. 108\n27. 160\n\n\n",
            "text/latex": "\\begin{enumerate*}\n\\item 97\n\\item 120\n\\item 110\n\\item 130\n\\item 160\n\\item 150\n\\item 135\n\\item 143\n\\item 107\n\\item 100\n\\item 110\n\\item 170\n\\item 137\n\\item 124\n\\item 118\n\\item 131\n\\item 127\n\\item 160\n\\item 145\n\\item 143\n\\item 122\n\\item 138\n\\item 150\n\\item 160\n\\item 120\n\\item 108\n\\item 160\n\\end{enumerate*}\n",
            "text/plain": [
              " [1]  97 120 110 130 160 150 135 143 107 100 110 170 137 124 118 131 127 160 145\n",
              "[20] 143 122 138 150 160 120 108 160"
            ]
          },
          "metadata": {}
        },
        {
          "output_type": "display_data",
          "data": {
            "text/html": [
              "143"
            ],
            "text/markdown": "143",
            "text/latex": "143",
            "text/plain": [
              "[1] 143"
            ]
          },
          "metadata": {}
        },
        {
          "output_type": "display_data",
          "data": {
            "text/html": [
              "<style>\n",
              ".list-inline {list-style: none; margin:0; padding: 0}\n",
              ".list-inline>li {display: inline-block}\n",
              ".list-inline>li:not(:last-child)::after {content: \"\\00b7\"; padding: 0 .5ex}\n",
              "</style>\n",
              "<ol class=list-inline><li>97</li><li>120</li><li>110</li><li>130</li><li>160</li><li>150</li><li>135</li><li>&lt;NA&gt;</li><li>107</li><li>100</li><li>110</li><li>170</li><li>137</li><li>124</li><li>118</li><li>131</li><li>127</li><li>160</li><li>145</li><li>143</li><li>122</li><li>138</li><li>150</li><li>160</li><li>120</li><li>108</li><li>160</li></ol>\n"
            ],
            "text/markdown": "1. 97\n2. 120\n3. 110\n4. 130\n5. 160\n6. 150\n7. 135\n8. &lt;NA&gt;\n9. 107\n10. 100\n11. 110\n12. 170\n13. 137\n14. 124\n15. 118\n16. 131\n17. 127\n18. 160\n19. 145\n20. 143\n21. 122\n22. 138\n23. 150\n24. 160\n25. 120\n26. 108\n27. 160\n\n\n",
            "text/latex": "\\begin{enumerate*}\n\\item 97\n\\item 120\n\\item 110\n\\item 130\n\\item 160\n\\item 150\n\\item 135\n\\item <NA>\n\\item 107\n\\item 100\n\\item 110\n\\item 170\n\\item 137\n\\item 124\n\\item 118\n\\item 131\n\\item 127\n\\item 160\n\\item 145\n\\item 143\n\\item 122\n\\item 138\n\\item 150\n\\item 160\n\\item 120\n\\item 108\n\\item 160\n\\end{enumerate*}\n",
            "text/plain": [
              " [1]  97 120 110 130 160 150 135  NA 107 100 110 170 137 124 118 131 127 160 145\n",
              "[20] 143 122 138 150 160 120 108 160"
            ]
          },
          "metadata": {}
        }
      ]
    },
    {
      "cell_type": "code",
      "source": [
        "mean(precos)\n",
        "mean(precos, na.rm = TRUE)  # na.rm: remove NAs"
      ],
      "metadata": {
        "colab": {
          "base_uri": "https://localhost:8080/",
          "height": 52
        },
        "id": "HLFLOUaTElf1",
        "outputId": "4fca814a-568d-44a9-efb6-80ff4458e60f"
      },
      "execution_count": null,
      "outputs": [
        {
          "output_type": "display_data",
          "data": {
            "text/html": [
              "&lt;NA&gt;"
            ],
            "text/markdown": "&lt;NA&gt;",
            "text/latex": "<NA>",
            "text/plain": [
              "[1] NA"
            ]
          },
          "metadata": {}
        },
        {
          "output_type": "display_data",
          "data": {
            "text/html": [
              "132"
            ],
            "text/markdown": "132",
            "text/latex": "132",
            "text/plain": [
              "[1] 132"
            ]
          },
          "metadata": {}
        }
      ]
    },
    {
      "cell_type": "code",
      "source": [
        "precos[8] = 143 # voltando ao vetor original"
      ],
      "metadata": {
        "id": "NkGxoVzVE5QT"
      },
      "execution_count": null,
      "outputs": []
    },
    {
      "cell_type": "code",
      "source": [
        "# Questao 2\n",
        "\n",
        "# 2.1)\n",
        "\n",
        "## RJ esta na posicao 18 e vale 160\n",
        "## vamos mudar o valor para 367\n",
        "\n",
        "precos[18] = 367\n",
        "precos\n",
        "mean(precos)\n",
        "median(precos)"
      ],
      "metadata": {
        "colab": {
          "base_uri": "https://localhost:8080/",
          "height": 86
        },
        "id": "w7R3NHI2F8oE",
        "outputId": "5e06ddd0-8b18-4046-ada3-be16a3b65f55"
      },
      "execution_count": null,
      "outputs": [
        {
          "output_type": "display_data",
          "data": {
            "text/html": [
              "<style>\n",
              ".list-inline {list-style: none; margin:0; padding: 0}\n",
              ".list-inline>li {display: inline-block}\n",
              ".list-inline>li:not(:last-child)::after {content: \"\\00b7\"; padding: 0 .5ex}\n",
              "</style>\n",
              "<ol class=list-inline><li>97</li><li>120</li><li>110</li><li>130</li><li>160</li><li>150</li><li>135</li><li>143</li><li>107</li><li>100</li><li>110</li><li>170</li><li>137</li><li>124</li><li>118</li><li>131</li><li>127</li><li>367</li><li>145</li><li>143</li><li>122</li><li>138</li><li>150</li><li>160</li><li>120</li><li>108</li><li>160</li></ol>\n"
            ],
            "text/markdown": "1. 97\n2. 120\n3. 110\n4. 130\n5. 160\n6. 150\n7. 135\n8. 143\n9. 107\n10. 100\n11. 110\n12. 170\n13. 137\n14. 124\n15. 118\n16. 131\n17. 127\n18. 367\n19. 145\n20. 143\n21. 122\n22. 138\n23. 150\n24. 160\n25. 120\n26. 108\n27. 160\n\n\n",
            "text/latex": "\\begin{enumerate*}\n\\item 97\n\\item 120\n\\item 110\n\\item 130\n\\item 160\n\\item 150\n\\item 135\n\\item 143\n\\item 107\n\\item 100\n\\item 110\n\\item 170\n\\item 137\n\\item 124\n\\item 118\n\\item 131\n\\item 127\n\\item 367\n\\item 145\n\\item 143\n\\item 122\n\\item 138\n\\item 150\n\\item 160\n\\item 120\n\\item 108\n\\item 160\n\\end{enumerate*}\n",
            "text/plain": [
              " [1]  97 120 110 130 160 150 135 143 107 100 110 170 137 124 118 131 127 367 145\n",
              "[20] 143 122 138 150 160 120 108 160"
            ]
          },
          "metadata": {}
        },
        {
          "output_type": "display_data",
          "data": {
            "text/html": [
              "140.074074074074"
            ],
            "text/markdown": "140.074074074074",
            "text/latex": "140.074074074074",
            "text/plain": [
              "[1] 140.0741"
            ]
          },
          "metadata": {}
        },
        {
          "output_type": "display_data",
          "data": {
            "text/html": [
              "131"
            ],
            "text/markdown": "131",
            "text/latex": "131",
            "text/plain": [
              "[1] 131"
            ]
          },
          "metadata": {}
        }
      ]
    },
    {
      "cell_type": "code",
      "source": [
        "# calculando percentil na \"mao\"\n",
        "precos_ordenados = sort(precos)  # sort: ordena os dados de menor a maior\n",
        "precos_ordenados\n",
        "k = 25\n",
        "n = length(precos)\n",
        "i = (k/100)*n\n",
        "i\n",
        "#  i neo eh inteiro"
      ],
      "metadata": {
        "colab": {
          "base_uri": "https://localhost:8080/",
          "height": 69
        },
        "id": "gCLZSPooHmst",
        "outputId": "460359ff-117c-404a-a178-ea5c750b4f28"
      },
      "execution_count": null,
      "outputs": [
        {
          "output_type": "display_data",
          "data": {
            "text/html": [
              "<style>\n",
              ".list-inline {list-style: none; margin:0; padding: 0}\n",
              ".list-inline>li {display: inline-block}\n",
              ".list-inline>li:not(:last-child)::after {content: \"\\00b7\"; padding: 0 .5ex}\n",
              "</style>\n",
              "<ol class=list-inline><li>97</li><li>100</li><li>107</li><li>108</li><li>110</li><li>110</li><li>118</li><li>120</li><li>120</li><li>122</li><li>124</li><li>127</li><li>130</li><li>131</li><li>135</li><li>137</li><li>138</li><li>143</li><li>143</li><li>145</li><li>150</li><li>150</li><li>160</li><li>160</li><li>160</li><li>170</li><li>367</li></ol>\n"
            ],
            "text/markdown": "1. 97\n2. 100\n3. 107\n4. 108\n5. 110\n6. 110\n7. 118\n8. 120\n9. 120\n10. 122\n11. 124\n12. 127\n13. 130\n14. 131\n15. 135\n16. 137\n17. 138\n18. 143\n19. 143\n20. 145\n21. 150\n22. 150\n23. 160\n24. 160\n25. 160\n26. 170\n27. 367\n\n\n",
            "text/latex": "\\begin{enumerate*}\n\\item 97\n\\item 100\n\\item 107\n\\item 108\n\\item 110\n\\item 110\n\\item 118\n\\item 120\n\\item 120\n\\item 122\n\\item 124\n\\item 127\n\\item 130\n\\item 131\n\\item 135\n\\item 137\n\\item 138\n\\item 143\n\\item 143\n\\item 145\n\\item 150\n\\item 150\n\\item 160\n\\item 160\n\\item 160\n\\item 170\n\\item 367\n\\end{enumerate*}\n",
            "text/plain": [
              " [1]  97 100 107 108 110 110 118 120 120 122 124 127 130 131 135 137 138 143 143\n",
              "[20] 145 150 150 160 160 160 170 367"
            ]
          },
          "metadata": {}
        },
        {
          "output_type": "display_data",
          "data": {
            "text/html": [
              "6.75"
            ],
            "text/markdown": "6.75",
            "text/latex": "6.75",
            "text/plain": [
              "[1] 6.75"
            ]
          },
          "metadata": {}
        }
      ]
    },
    {
      "cell_type": "code",
      "source": [
        "floor(i)  # maior valor inteiro <= i"
      ],
      "metadata": {
        "colab": {
          "base_uri": "https://localhost:8080/",
          "height": 34
        },
        "id": "_5PC56-uIWgs",
        "outputId": "1520bc4b-2b08-42c5-b7ec-a1090f260850"
      },
      "execution_count": null,
      "outputs": [
        {
          "output_type": "display_data",
          "data": {
            "text/html": [
              "6"
            ],
            "text/markdown": "6",
            "text/latex": "6",
            "text/plain": [
              "[1] 6"
            ]
          },
          "metadata": {}
        }
      ]
    },
    {
      "cell_type": "code",
      "source": [
        "precos_ordenados[7]"
      ],
      "metadata": {
        "colab": {
          "base_uri": "https://localhost:8080/",
          "height": 34
        },
        "id": "hhBPumg-IfF6",
        "outputId": "e9505618-ee5f-47b7-fdec-e895c09ec120"
      },
      "execution_count": null,
      "outputs": [
        {
          "output_type": "display_data",
          "data": {
            "text/html": [
              "118"
            ],
            "text/markdown": "118",
            "text/latex": "118",
            "text/plain": [
              "[1] 118"
            ]
          },
          "metadata": {}
        }
      ]
    },
    {
      "cell_type": "code",
      "source": [
        "quantile(precos, 0.25)"
      ],
      "metadata": {
        "colab": {
          "base_uri": "https://localhost:8080/",
          "height": 34
        },
        "id": "Wjfn6H-qIqhE",
        "outputId": "52b58fa3-17c0-4362-ce4a-2a2a23abd467"
      },
      "execution_count": null,
      "outputs": [
        {
          "output_type": "display_data",
          "data": {
            "text/html": [
              "<strong>25%:</strong> 119"
            ],
            "text/markdown": "**25%:** 119",
            "text/latex": "\\textbf{25\\textbackslash{}\\%:} 119",
            "text/plain": [
              "25% \n",
              "119 "
            ]
          },
          "metadata": {}
        }
      ]
    },
    {
      "cell_type": "code",
      "source": [
        "quantile(precos, 0.25, type = 6)"
      ],
      "metadata": {
        "colab": {
          "base_uri": "https://localhost:8080/",
          "height": 34
        },
        "id": "63qXt9iwI610",
        "outputId": "93bb747b-51f2-4a3b-c5d0-34ce5042ee5f"
      },
      "execution_count": null,
      "outputs": [
        {
          "output_type": "display_data",
          "data": {
            "text/html": [
              "<strong>25%:</strong> 118"
            ],
            "text/markdown": "**25%:** 118",
            "text/latex": "\\textbf{25\\textbackslash{}\\%:} 118",
            "text/plain": [
              "25% \n",
              "118 "
            ]
          },
          "metadata": {}
        }
      ]
    },
    {
      "cell_type": "code",
      "source": [
        "# Questao 4\n",
        "# 4.1)\n",
        "url  = \"https://raw.githubusercontent.com/ctruciosm/ctruciosm.github.io/master/datasets/titanic.csv\"\n",
        "titanic = read.csv(url)\n",
        "titanic"
      ],
      "metadata": {
        "colab": {
          "base_uri": "https://localhost:8080/",
          "height": 1000
        },
        "id": "l6Gnsdq_Jak8",
        "outputId": "20cff2c1-1eda-4206-ee89-816427ea799e"
      },
      "execution_count": null,
      "outputs": [
        {
          "output_type": "display_data",
          "data": {
            "text/html": [
              "<table class=\"dataframe\">\n",
              "<caption>A data.frame: 1309 × 13</caption>\n",
              "<thead>\n",
              "\t<tr><th scope=col>X</th><th scope=col>PassengerId</th><th scope=col>Survived</th><th scope=col>Pclass</th><th scope=col>Name</th><th scope=col>Sex</th><th scope=col>Age</th><th scope=col>SibSp</th><th scope=col>Parch</th><th scope=col>Ticket</th><th scope=col>Fare</th><th scope=col>Cabin</th><th scope=col>Embarked</th></tr>\n",
              "\t<tr><th scope=col>&lt;int&gt;</th><th scope=col>&lt;int&gt;</th><th scope=col>&lt;int&gt;</th><th scope=col>&lt;chr&gt;</th><th scope=col>&lt;chr&gt;</th><th scope=col>&lt;chr&gt;</th><th scope=col>&lt;dbl&gt;</th><th scope=col>&lt;int&gt;</th><th scope=col>&lt;int&gt;</th><th scope=col>&lt;chr&gt;</th><th scope=col>&lt;dbl&gt;</th><th scope=col>&lt;chr&gt;</th><th scope=col>&lt;chr&gt;</th></tr>\n",
              "</thead>\n",
              "<tbody>\n",
              "\t<tr><td> 1</td><td>892</td><td>0</td><td>3rd</td><td>Kelly, Mr. James                                       </td><td>male  </td><td>34.5</td><td>0</td><td>0</td><td>330911          </td><td>  7.8292</td><td>               </td><td>Q</td></tr>\n",
              "\t<tr><td> 2</td><td>893</td><td>1</td><td>3rd</td><td>Wilkes, Mrs. James (Ellen Needs)                       </td><td>female</td><td>47.0</td><td>1</td><td>0</td><td>363272          </td><td>  7.0000</td><td>               </td><td>S</td></tr>\n",
              "\t<tr><td> 3</td><td>894</td><td>0</td><td>2nd</td><td>Myles, Mr. Thomas Francis                              </td><td>male  </td><td>62.0</td><td>0</td><td>0</td><td>240276          </td><td>  9.6875</td><td>               </td><td>Q</td></tr>\n",
              "\t<tr><td> 4</td><td>895</td><td>0</td><td>3rd</td><td>Wirz, Mr. Albert                                       </td><td>male  </td><td>27.0</td><td>0</td><td>0</td><td>315154          </td><td>  8.6625</td><td>               </td><td>S</td></tr>\n",
              "\t<tr><td> 5</td><td>896</td><td>1</td><td>3rd</td><td>Hirvonen, Mrs. Alexander (Helga E Lindqvist)           </td><td>female</td><td>22.0</td><td>1</td><td>1</td><td>3101298         </td><td> 12.2875</td><td>               </td><td>S</td></tr>\n",
              "\t<tr><td> 6</td><td>897</td><td>0</td><td>3rd</td><td>Svensson, Mr. Johan Cervin                             </td><td>male  </td><td>14.0</td><td>0</td><td>0</td><td>7538            </td><td>  9.2250</td><td>               </td><td>S</td></tr>\n",
              "\t<tr><td> 7</td><td>898</td><td>1</td><td>3rd</td><td>Connolly, Miss. Kate                                   </td><td>female</td><td>30.0</td><td>0</td><td>0</td><td>330972          </td><td>  7.6292</td><td>               </td><td>Q</td></tr>\n",
              "\t<tr><td> 8</td><td>899</td><td>0</td><td>2nd</td><td>Caldwell, Mr. Albert Francis                           </td><td>male  </td><td>26.0</td><td>1</td><td>1</td><td>248738          </td><td> 29.0000</td><td>               </td><td>S</td></tr>\n",
              "\t<tr><td> 9</td><td>900</td><td>1</td><td>3rd</td><td>Abrahim, Mrs. Joseph (Sophie Halaut Easu)              </td><td>female</td><td>18.0</td><td>0</td><td>0</td><td>2657            </td><td>  7.2292</td><td>               </td><td>C</td></tr>\n",
              "\t<tr><td>10</td><td>901</td><td>0</td><td>3rd</td><td>Davies, Mr. John Samuel                                </td><td>male  </td><td>21.0</td><td>2</td><td>0</td><td>A/4 48871       </td><td> 24.1500</td><td>               </td><td>S</td></tr>\n",
              "\t<tr><td>11</td><td>902</td><td>0</td><td>3rd</td><td>Ilieff, Mr. Ylio                                       </td><td>male  </td><td>  NA</td><td>0</td><td>0</td><td>349220          </td><td>  7.8958</td><td>               </td><td>S</td></tr>\n",
              "\t<tr><td>12</td><td>903</td><td>0</td><td>1st</td><td>Jones, Mr. Charles Cresson                             </td><td>male  </td><td>46.0</td><td>0</td><td>0</td><td>694             </td><td> 26.0000</td><td>               </td><td>S</td></tr>\n",
              "\t<tr><td>13</td><td>904</td><td>1</td><td>1st</td><td>Snyder, Mrs. John Pillsbury (Nelle Stevenson)          </td><td>female</td><td>23.0</td><td>1</td><td>0</td><td>21228           </td><td> 82.2667</td><td>B45            </td><td>S</td></tr>\n",
              "\t<tr><td>14</td><td>905</td><td>0</td><td>2nd</td><td>Howard, Mr. Benjamin                                   </td><td>male  </td><td>63.0</td><td>1</td><td>0</td><td>24065           </td><td> 26.0000</td><td>               </td><td>S</td></tr>\n",
              "\t<tr><td>15</td><td>906</td><td>1</td><td>1st</td><td>Chaffee, Mrs. Herbert Fuller (Carrie Constance Toogood)</td><td>female</td><td>47.0</td><td>1</td><td>0</td><td>W.E.P. 5734     </td><td> 61.1750</td><td>E31            </td><td>S</td></tr>\n",
              "\t<tr><td>16</td><td>907</td><td>1</td><td>2nd</td><td>del Carlo, Mrs. Sebastiano (Argenia Genovesi)          </td><td>female</td><td>24.0</td><td>1</td><td>0</td><td>SC/PARIS 2167   </td><td> 27.7208</td><td>               </td><td>C</td></tr>\n",
              "\t<tr><td>17</td><td>908</td><td>0</td><td>2nd</td><td>Keane, Mr. Daniel                                      </td><td>male  </td><td>35.0</td><td>0</td><td>0</td><td>233734          </td><td> 12.3500</td><td>               </td><td>Q</td></tr>\n",
              "\t<tr><td>18</td><td>909</td><td>0</td><td>3rd</td><td>Assaf, Mr. Gerios                                      </td><td>male  </td><td>21.0</td><td>0</td><td>0</td><td>2692            </td><td>  7.2250</td><td>               </td><td>C</td></tr>\n",
              "\t<tr><td>19</td><td>910</td><td>1</td><td>3rd</td><td>Ilmakangas, Miss. Ida Livija                           </td><td>female</td><td>27.0</td><td>1</td><td>0</td><td>STON/O2. 3101270</td><td>  7.9250</td><td>               </td><td>S</td></tr>\n",
              "\t<tr><td>20</td><td>911</td><td>1</td><td>3rd</td><td>Assaf Khalil, Mrs. Mariana (Miriam\")\"                  </td><td>female</td><td>45.0</td><td>0</td><td>0</td><td>2696            </td><td>  7.2250</td><td>               </td><td>C</td></tr>\n",
              "\t<tr><td>21</td><td>912</td><td>0</td><td>1st</td><td>Rothschild, Mr. Martin                                 </td><td>male  </td><td>55.0</td><td>1</td><td>0</td><td>PC 17603        </td><td> 59.4000</td><td>               </td><td>C</td></tr>\n",
              "\t<tr><td>22</td><td>913</td><td>0</td><td>3rd</td><td>Olsen, Master. Artur Karl                              </td><td>male  </td><td> 9.0</td><td>0</td><td>1</td><td>C 17368         </td><td>  3.1708</td><td>               </td><td>S</td></tr>\n",
              "\t<tr><td>23</td><td>914</td><td>1</td><td>1st</td><td>Flegenheim, Mrs. Alfred (Antoinette)                   </td><td>female</td><td>  NA</td><td>0</td><td>0</td><td>PC 17598        </td><td> 31.6833</td><td>               </td><td>S</td></tr>\n",
              "\t<tr><td>24</td><td>915</td><td>0</td><td>1st</td><td>Williams, Mr. Richard Norris II                        </td><td>male  </td><td>21.0</td><td>0</td><td>1</td><td>PC 17597        </td><td> 61.3792</td><td>               </td><td>C</td></tr>\n",
              "\t<tr><td>25</td><td>916</td><td>1</td><td>1st</td><td>Ryerson, Mrs. Arthur Larned (Emily Maria Borie)        </td><td>female</td><td>48.0</td><td>1</td><td>3</td><td>PC 17608        </td><td>262.3750</td><td>B57 B59 B63 B66</td><td>C</td></tr>\n",
              "\t<tr><td>26</td><td>917</td><td>0</td><td>3rd</td><td>Robins, Mr. Alexander A                                </td><td>male  </td><td>50.0</td><td>1</td><td>0</td><td>A/5. 3337       </td><td> 14.5000</td><td>               </td><td>S</td></tr>\n",
              "\t<tr><td>27</td><td>918</td><td>1</td><td>1st</td><td>Ostby, Miss. Helene Ragnhild                           </td><td>female</td><td>22.0</td><td>0</td><td>1</td><td>113509          </td><td> 61.9792</td><td>B36            </td><td>C</td></tr>\n",
              "\t<tr><td>28</td><td>919</td><td>0</td><td>3rd</td><td>Daher, Mr. Shedid                                      </td><td>male  </td><td>22.5</td><td>0</td><td>0</td><td>2698            </td><td>  7.2250</td><td>               </td><td>C</td></tr>\n",
              "\t<tr><td>29</td><td>920</td><td>0</td><td>1st</td><td>Brady, Mr. John Bertram                                </td><td>male  </td><td>41.0</td><td>0</td><td>0</td><td>113054          </td><td> 30.5000</td><td>A21            </td><td>S</td></tr>\n",
              "\t<tr><td>30</td><td>921</td><td>0</td><td>3rd</td><td>Samaan, Mr. Elias                                      </td><td>male  </td><td>  NA</td><td>2</td><td>0</td><td>2662            </td><td> 21.6792</td><td>               </td><td>C</td></tr>\n",
              "\t<tr><td>⋮</td><td>⋮</td><td>⋮</td><td>⋮</td><td>⋮</td><td>⋮</td><td>⋮</td><td>⋮</td><td>⋮</td><td>⋮</td><td>⋮</td><td>⋮</td><td>⋮</td></tr>\n",
              "\t<tr><td>1280</td><td>862</td><td>0</td><td>2nd</td><td>Giles, Mr. Frederick Edward                        </td><td>male  </td><td>21</td><td>1</td><td>0</td><td>28134           </td><td>11.5000</td><td>           </td><td>S</td></tr>\n",
              "\t<tr><td>1281</td><td>863</td><td>1</td><td>1st</td><td>Swift, Mrs. Frederick Joel (Margaret Welles Barron)</td><td>female</td><td>48</td><td>0</td><td>0</td><td>17466           </td><td>25.9292</td><td>D17        </td><td>S</td></tr>\n",
              "\t<tr><td>1282</td><td>864</td><td>0</td><td>3rd</td><td>Sage, Miss. Dorothy Edith \"Dolly\"                  </td><td>female</td><td>NA</td><td>8</td><td>2</td><td>CA. 2343        </td><td>69.5500</td><td>           </td><td>S</td></tr>\n",
              "\t<tr><td>1283</td><td>865</td><td>0</td><td>2nd</td><td>Gill, Mr. John William                             </td><td>male  </td><td>24</td><td>0</td><td>0</td><td>233866          </td><td>13.0000</td><td>           </td><td>S</td></tr>\n",
              "\t<tr><td>1284</td><td>866</td><td>1</td><td>2nd</td><td>Bystrom, Mrs. (Karolina)                           </td><td>female</td><td>42</td><td>0</td><td>0</td><td>236852          </td><td>13.0000</td><td>           </td><td>S</td></tr>\n",
              "\t<tr><td>1285</td><td>867</td><td>1</td><td>2nd</td><td>Duran y More, Miss. Asuncion                       </td><td>female</td><td>27</td><td>1</td><td>0</td><td>SC/PARIS 2149   </td><td>13.8583</td><td>           </td><td>C</td></tr>\n",
              "\t<tr><td>1286</td><td>868</td><td>0</td><td>1st</td><td>Roebling, Mr. Washington Augustus II               </td><td>male  </td><td>31</td><td>0</td><td>0</td><td>PC 17590        </td><td>50.4958</td><td>A24        </td><td>S</td></tr>\n",
              "\t<tr><td>1287</td><td>869</td><td>0</td><td>3rd</td><td>van Melkebeke, Mr. Philemon                        </td><td>male  </td><td>NA</td><td>0</td><td>0</td><td>345777          </td><td> 9.5000</td><td>           </td><td>S</td></tr>\n",
              "\t<tr><td>1288</td><td>870</td><td>1</td><td>3rd</td><td>Johnson, Master. Harold Theodor                    </td><td>male  </td><td> 4</td><td>1</td><td>1</td><td>347742          </td><td>11.1333</td><td>           </td><td>S</td></tr>\n",
              "\t<tr><td>1289</td><td>871</td><td>0</td><td>3rd</td><td>Balkic, Mr. Cerin                                  </td><td>male  </td><td>26</td><td>0</td><td>0</td><td>349248          </td><td> 7.8958</td><td>           </td><td>S</td></tr>\n",
              "\t<tr><td>1290</td><td>872</td><td>1</td><td>1st</td><td>Beckwith, Mrs. Richard Leonard (Sallie Monypeny)   </td><td>female</td><td>47</td><td>1</td><td>1</td><td>11751           </td><td>52.5542</td><td>D35        </td><td>S</td></tr>\n",
              "\t<tr><td>1291</td><td>873</td><td>0</td><td>1st</td><td>Carlsson, Mr. Frans Olof                           </td><td>male  </td><td>33</td><td>0</td><td>0</td><td>695             </td><td> 5.0000</td><td>B51 B53 B55</td><td>S</td></tr>\n",
              "\t<tr><td>1292</td><td>874</td><td>0</td><td>3rd</td><td>Vander Cruyssen, Mr. Victor                        </td><td>male  </td><td>47</td><td>0</td><td>0</td><td>345765          </td><td> 9.0000</td><td>           </td><td>S</td></tr>\n",
              "\t<tr><td>1293</td><td>875</td><td>1</td><td>2nd</td><td>Abelson, Mrs. Samuel (Hannah Wizosky)              </td><td>female</td><td>28</td><td>1</td><td>0</td><td>P/PP 3381       </td><td>24.0000</td><td>           </td><td>C</td></tr>\n",
              "\t<tr><td>1294</td><td>876</td><td>1</td><td>3rd</td><td>Najib, Miss. Adele Kiamie \"Jane\"                   </td><td>female</td><td>15</td><td>0</td><td>0</td><td>2667            </td><td> 7.2250</td><td>           </td><td>C</td></tr>\n",
              "\t<tr><td>1295</td><td>877</td><td>0</td><td>3rd</td><td>Gustafsson, Mr. Alfred Ossian                      </td><td>male  </td><td>20</td><td>0</td><td>0</td><td>7534            </td><td> 9.8458</td><td>           </td><td>S</td></tr>\n",
              "\t<tr><td>1296</td><td>878</td><td>0</td><td>3rd</td><td>Petroff, Mr. Nedelio                               </td><td>male  </td><td>19</td><td>0</td><td>0</td><td>349212          </td><td> 7.8958</td><td>           </td><td>S</td></tr>\n",
              "\t<tr><td>1297</td><td>879</td><td>0</td><td>3rd</td><td>Laleff, Mr. Kristo                                 </td><td>male  </td><td>NA</td><td>0</td><td>0</td><td>349217          </td><td> 7.8958</td><td>           </td><td>S</td></tr>\n",
              "\t<tr><td>1298</td><td>880</td><td>1</td><td>1st</td><td>Potter, Mrs. Thomas Jr (Lily Alexenia Wilson)      </td><td>female</td><td>56</td><td>0</td><td>1</td><td>11767           </td><td>83.1583</td><td>C50        </td><td>C</td></tr>\n",
              "\t<tr><td>1299</td><td>881</td><td>1</td><td>2nd</td><td>Shelley, Mrs. William (Imanita Parrish Hall)       </td><td>female</td><td>25</td><td>0</td><td>1</td><td>230433          </td><td>26.0000</td><td>           </td><td>S</td></tr>\n",
              "\t<tr><td>1300</td><td>882</td><td>0</td><td>3rd</td><td>Markun, Mr. Johann                                 </td><td>male  </td><td>33</td><td>0</td><td>0</td><td>349257          </td><td> 7.8958</td><td>           </td><td>S</td></tr>\n",
              "\t<tr><td>1301</td><td>883</td><td>0</td><td>3rd</td><td>Dahlberg, Miss. Gerda Ulrika                       </td><td>female</td><td>22</td><td>0</td><td>0</td><td>7552            </td><td>10.5167</td><td>           </td><td>S</td></tr>\n",
              "\t<tr><td>1302</td><td>884</td><td>0</td><td>2nd</td><td>Banfield, Mr. Frederick James                      </td><td>male  </td><td>28</td><td>0</td><td>0</td><td>C.A./SOTON 34068</td><td>10.5000</td><td>           </td><td>S</td></tr>\n",
              "\t<tr><td>1303</td><td>885</td><td>0</td><td>3rd</td><td>Sutehall, Mr. Henry Jr                             </td><td>male  </td><td>25</td><td>0</td><td>0</td><td>SOTON/OQ 392076 </td><td> 7.0500</td><td>           </td><td>S</td></tr>\n",
              "\t<tr><td>1304</td><td>886</td><td>0</td><td>3rd</td><td>Rice, Mrs. William (Margaret Norton)               </td><td>female</td><td>39</td><td>0</td><td>5</td><td>382652          </td><td>29.1250</td><td>           </td><td>Q</td></tr>\n",
              "\t<tr><td>1305</td><td>887</td><td>0</td><td>2nd</td><td>Montvila, Rev. Juozas                              </td><td>male  </td><td>27</td><td>0</td><td>0</td><td>211536          </td><td>13.0000</td><td>           </td><td>S</td></tr>\n",
              "\t<tr><td>1306</td><td>888</td><td>1</td><td>1st</td><td>Graham, Miss. Margaret Edith                       </td><td>female</td><td>19</td><td>0</td><td>0</td><td>112053          </td><td>30.0000</td><td>B42        </td><td>S</td></tr>\n",
              "\t<tr><td>1307</td><td>889</td><td>0</td><td>3rd</td><td>Johnston, Miss. Catherine Helen \"Carrie\"           </td><td>female</td><td>NA</td><td>1</td><td>2</td><td>W./C. 6607      </td><td>23.4500</td><td>           </td><td>S</td></tr>\n",
              "\t<tr><td>1308</td><td>890</td><td>1</td><td>1st</td><td>Behr, Mr. Karl Howell                              </td><td>male  </td><td>26</td><td>0</td><td>0</td><td>111369          </td><td>30.0000</td><td>C148       </td><td>C</td></tr>\n",
              "\t<tr><td>1309</td><td>891</td><td>0</td><td>3rd</td><td>Dooley, Mr. Patrick                                </td><td>male  </td><td>32</td><td>0</td><td>0</td><td>370376          </td><td> 7.7500</td><td>           </td><td>Q</td></tr>\n",
              "</tbody>\n",
              "</table>\n"
            ],
            "text/markdown": "\nA data.frame: 1309 × 13\n\n| X &lt;int&gt; | PassengerId &lt;int&gt; | Survived &lt;int&gt; | Pclass &lt;chr&gt; | Name &lt;chr&gt; | Sex &lt;chr&gt; | Age &lt;dbl&gt; | SibSp &lt;int&gt; | Parch &lt;int&gt; | Ticket &lt;chr&gt; | Fare &lt;dbl&gt; | Cabin &lt;chr&gt; | Embarked &lt;chr&gt; |\n|---|---|---|---|---|---|---|---|---|---|---|---|---|\n|  1 | 892 | 0 | 3rd | Kelly, Mr. James                                        | male   | 34.5 | 0 | 0 | 330911           |   7.8292 | <!----> | Q |\n|  2 | 893 | 1 | 3rd | Wilkes, Mrs. James (Ellen Needs)                        | female | 47.0 | 1 | 0 | 363272           |   7.0000 | <!----> | S |\n|  3 | 894 | 0 | 2nd | Myles, Mr. Thomas Francis                               | male   | 62.0 | 0 | 0 | 240276           |   9.6875 | <!----> | Q |\n|  4 | 895 | 0 | 3rd | Wirz, Mr. Albert                                        | male   | 27.0 | 0 | 0 | 315154           |   8.6625 | <!----> | S |\n|  5 | 896 | 1 | 3rd | Hirvonen, Mrs. Alexander (Helga E Lindqvist)            | female | 22.0 | 1 | 1 | 3101298          |  12.2875 | <!----> | S |\n|  6 | 897 | 0 | 3rd | Svensson, Mr. Johan Cervin                              | male   | 14.0 | 0 | 0 | 7538             |   9.2250 | <!----> | S |\n|  7 | 898 | 1 | 3rd | Connolly, Miss. Kate                                    | female | 30.0 | 0 | 0 | 330972           |   7.6292 | <!----> | Q |\n|  8 | 899 | 0 | 2nd | Caldwell, Mr. Albert Francis                            | male   | 26.0 | 1 | 1 | 248738           |  29.0000 | <!----> | S |\n|  9 | 900 | 1 | 3rd | Abrahim, Mrs. Joseph (Sophie Halaut Easu)               | female | 18.0 | 0 | 0 | 2657             |   7.2292 | <!----> | C |\n| 10 | 901 | 0 | 3rd | Davies, Mr. John Samuel                                 | male   | 21.0 | 2 | 0 | A/4 48871        |  24.1500 | <!----> | S |\n| 11 | 902 | 0 | 3rd | Ilieff, Mr. Ylio                                        | male   |   NA | 0 | 0 | 349220           |   7.8958 | <!----> | S |\n| 12 | 903 | 0 | 1st | Jones, Mr. Charles Cresson                              | male   | 46.0 | 0 | 0 | 694              |  26.0000 | <!----> | S |\n| 13 | 904 | 1 | 1st | Snyder, Mrs. John Pillsbury (Nelle Stevenson)           | female | 23.0 | 1 | 0 | 21228            |  82.2667 | B45             | S |\n| 14 | 905 | 0 | 2nd | Howard, Mr. Benjamin                                    | male   | 63.0 | 1 | 0 | 24065            |  26.0000 | <!----> | S |\n| 15 | 906 | 1 | 1st | Chaffee, Mrs. Herbert Fuller (Carrie Constance Toogood) | female | 47.0 | 1 | 0 | W.E.P. 5734      |  61.1750 | E31             | S |\n| 16 | 907 | 1 | 2nd | del Carlo, Mrs. Sebastiano (Argenia Genovesi)           | female | 24.0 | 1 | 0 | SC/PARIS 2167    |  27.7208 | <!----> | C |\n| 17 | 908 | 0 | 2nd | Keane, Mr. Daniel                                       | male   | 35.0 | 0 | 0 | 233734           |  12.3500 | <!----> | Q |\n| 18 | 909 | 0 | 3rd | Assaf, Mr. Gerios                                       | male   | 21.0 | 0 | 0 | 2692             |   7.2250 | <!----> | C |\n| 19 | 910 | 1 | 3rd | Ilmakangas, Miss. Ida Livija                            | female | 27.0 | 1 | 0 | STON/O2. 3101270 |   7.9250 | <!----> | S |\n| 20 | 911 | 1 | 3rd | Assaf Khalil, Mrs. Mariana (Miriam\")\"                   | female | 45.0 | 0 | 0 | 2696             |   7.2250 | <!----> | C |\n| 21 | 912 | 0 | 1st | Rothschild, Mr. Martin                                  | male   | 55.0 | 1 | 0 | PC 17603         |  59.4000 | <!----> | C |\n| 22 | 913 | 0 | 3rd | Olsen, Master. Artur Karl                               | male   |  9.0 | 0 | 1 | C 17368          |   3.1708 | <!----> | S |\n| 23 | 914 | 1 | 1st | Flegenheim, Mrs. Alfred (Antoinette)                    | female |   NA | 0 | 0 | PC 17598         |  31.6833 | <!----> | S |\n| 24 | 915 | 0 | 1st | Williams, Mr. Richard Norris II                         | male   | 21.0 | 0 | 1 | PC 17597         |  61.3792 | <!----> | C |\n| 25 | 916 | 1 | 1st | Ryerson, Mrs. Arthur Larned (Emily Maria Borie)         | female | 48.0 | 1 | 3 | PC 17608         | 262.3750 | B57 B59 B63 B66 | C |\n| 26 | 917 | 0 | 3rd | Robins, Mr. Alexander A                                 | male   | 50.0 | 1 | 0 | A/5. 3337        |  14.5000 | <!----> | S |\n| 27 | 918 | 1 | 1st | Ostby, Miss. Helene Ragnhild                            | female | 22.0 | 0 | 1 | 113509           |  61.9792 | B36             | C |\n| 28 | 919 | 0 | 3rd | Daher, Mr. Shedid                                       | male   | 22.5 | 0 | 0 | 2698             |   7.2250 | <!----> | C |\n| 29 | 920 | 0 | 1st | Brady, Mr. John Bertram                                 | male   | 41.0 | 0 | 0 | 113054           |  30.5000 | A21             | S |\n| 30 | 921 | 0 | 3rd | Samaan, Mr. Elias                                       | male   |   NA | 2 | 0 | 2662             |  21.6792 | <!----> | C |\n| ⋮ | ⋮ | ⋮ | ⋮ | ⋮ | ⋮ | ⋮ | ⋮ | ⋮ | ⋮ | ⋮ | ⋮ | ⋮ |\n| 1280 | 862 | 0 | 2nd | Giles, Mr. Frederick Edward                         | male   | 21 | 1 | 0 | 28134            | 11.5000 | <!----> | S |\n| 1281 | 863 | 1 | 1st | Swift, Mrs. Frederick Joel (Margaret Welles Barron) | female | 48 | 0 | 0 | 17466            | 25.9292 | D17         | S |\n| 1282 | 864 | 0 | 3rd | Sage, Miss. Dorothy Edith \"Dolly\"                   | female | NA | 8 | 2 | CA. 2343         | 69.5500 | <!----> | S |\n| 1283 | 865 | 0 | 2nd | Gill, Mr. John William                              | male   | 24 | 0 | 0 | 233866           | 13.0000 | <!----> | S |\n| 1284 | 866 | 1 | 2nd | Bystrom, Mrs. (Karolina)                            | female | 42 | 0 | 0 | 236852           | 13.0000 | <!----> | S |\n| 1285 | 867 | 1 | 2nd | Duran y More, Miss. Asuncion                        | female | 27 | 1 | 0 | SC/PARIS 2149    | 13.8583 | <!----> | C |\n| 1286 | 868 | 0 | 1st | Roebling, Mr. Washington Augustus II                | male   | 31 | 0 | 0 | PC 17590         | 50.4958 | A24         | S |\n| 1287 | 869 | 0 | 3rd | van Melkebeke, Mr. Philemon                         | male   | NA | 0 | 0 | 345777           |  9.5000 | <!----> | S |\n| 1288 | 870 | 1 | 3rd | Johnson, Master. Harold Theodor                     | male   |  4 | 1 | 1 | 347742           | 11.1333 | <!----> | S |\n| 1289 | 871 | 0 | 3rd | Balkic, Mr. Cerin                                   | male   | 26 | 0 | 0 | 349248           |  7.8958 | <!----> | S |\n| 1290 | 872 | 1 | 1st | Beckwith, Mrs. Richard Leonard (Sallie Monypeny)    | female | 47 | 1 | 1 | 11751            | 52.5542 | D35         | S |\n| 1291 | 873 | 0 | 1st | Carlsson, Mr. Frans Olof                            | male   | 33 | 0 | 0 | 695              |  5.0000 | B51 B53 B55 | S |\n| 1292 | 874 | 0 | 3rd | Vander Cruyssen, Mr. Victor                         | male   | 47 | 0 | 0 | 345765           |  9.0000 | <!----> | S |\n| 1293 | 875 | 1 | 2nd | Abelson, Mrs. Samuel (Hannah Wizosky)               | female | 28 | 1 | 0 | P/PP 3381        | 24.0000 | <!----> | C |\n| 1294 | 876 | 1 | 3rd | Najib, Miss. Adele Kiamie \"Jane\"                    | female | 15 | 0 | 0 | 2667             |  7.2250 | <!----> | C |\n| 1295 | 877 | 0 | 3rd | Gustafsson, Mr. Alfred Ossian                       | male   | 20 | 0 | 0 | 7534             |  9.8458 | <!----> | S |\n| 1296 | 878 | 0 | 3rd | Petroff, Mr. Nedelio                                | male   | 19 | 0 | 0 | 349212           |  7.8958 | <!----> | S |\n| 1297 | 879 | 0 | 3rd | Laleff, Mr. Kristo                                  | male   | NA | 0 | 0 | 349217           |  7.8958 | <!----> | S |\n| 1298 | 880 | 1 | 1st | Potter, Mrs. Thomas Jr (Lily Alexenia Wilson)       | female | 56 | 0 | 1 | 11767            | 83.1583 | C50         | C |\n| 1299 | 881 | 1 | 2nd | Shelley, Mrs. William (Imanita Parrish Hall)        | female | 25 | 0 | 1 | 230433           | 26.0000 | <!----> | S |\n| 1300 | 882 | 0 | 3rd | Markun, Mr. Johann                                  | male   | 33 | 0 | 0 | 349257           |  7.8958 | <!----> | S |\n| 1301 | 883 | 0 | 3rd | Dahlberg, Miss. Gerda Ulrika                        | female | 22 | 0 | 0 | 7552             | 10.5167 | <!----> | S |\n| 1302 | 884 | 0 | 2nd | Banfield, Mr. Frederick James                       | male   | 28 | 0 | 0 | C.A./SOTON 34068 | 10.5000 | <!----> | S |\n| 1303 | 885 | 0 | 3rd | Sutehall, Mr. Henry Jr                              | male   | 25 | 0 | 0 | SOTON/OQ 392076  |  7.0500 | <!----> | S |\n| 1304 | 886 | 0 | 3rd | Rice, Mrs. William (Margaret Norton)                | female | 39 | 0 | 5 | 382652           | 29.1250 | <!----> | Q |\n| 1305 | 887 | 0 | 2nd | Montvila, Rev. Juozas                               | male   | 27 | 0 | 0 | 211536           | 13.0000 | <!----> | S |\n| 1306 | 888 | 1 | 1st | Graham, Miss. Margaret Edith                        | female | 19 | 0 | 0 | 112053           | 30.0000 | B42         | S |\n| 1307 | 889 | 0 | 3rd | Johnston, Miss. Catherine Helen \"Carrie\"            | female | NA | 1 | 2 | W./C. 6607       | 23.4500 | <!----> | S |\n| 1308 | 890 | 1 | 1st | Behr, Mr. Karl Howell                               | male   | 26 | 0 | 0 | 111369           | 30.0000 | C148        | C |\n| 1309 | 891 | 0 | 3rd | Dooley, Mr. Patrick                                 | male   | 32 | 0 | 0 | 370376           |  7.7500 | <!----> | Q |\n\n",
            "text/latex": "A data.frame: 1309 × 13\n\\begin{tabular}{lllllllllllll}\n X & PassengerId & Survived & Pclass & Name & Sex & Age & SibSp & Parch & Ticket & Fare & Cabin & Embarked\\\\\n <int> & <int> & <int> & <chr> & <chr> & <chr> & <dbl> & <int> & <int> & <chr> & <dbl> & <chr> & <chr>\\\\\n\\hline\n\t  1 & 892 & 0 & 3rd & Kelly, Mr. James                                        & male   & 34.5 & 0 & 0 & 330911           &   7.8292 &                 & Q\\\\\n\t  2 & 893 & 1 & 3rd & Wilkes, Mrs. James (Ellen Needs)                        & female & 47.0 & 1 & 0 & 363272           &   7.0000 &                 & S\\\\\n\t  3 & 894 & 0 & 2nd & Myles, Mr. Thomas Francis                               & male   & 62.0 & 0 & 0 & 240276           &   9.6875 &                 & Q\\\\\n\t  4 & 895 & 0 & 3rd & Wirz, Mr. Albert                                        & male   & 27.0 & 0 & 0 & 315154           &   8.6625 &                 & S\\\\\n\t  5 & 896 & 1 & 3rd & Hirvonen, Mrs. Alexander (Helga E Lindqvist)            & female & 22.0 & 1 & 1 & 3101298          &  12.2875 &                 & S\\\\\n\t  6 & 897 & 0 & 3rd & Svensson, Mr. Johan Cervin                              & male   & 14.0 & 0 & 0 & 7538             &   9.2250 &                 & S\\\\\n\t  7 & 898 & 1 & 3rd & Connolly, Miss. Kate                                    & female & 30.0 & 0 & 0 & 330972           &   7.6292 &                 & Q\\\\\n\t  8 & 899 & 0 & 2nd & Caldwell, Mr. Albert Francis                            & male   & 26.0 & 1 & 1 & 248738           &  29.0000 &                 & S\\\\\n\t  9 & 900 & 1 & 3rd & Abrahim, Mrs. Joseph (Sophie Halaut Easu)               & female & 18.0 & 0 & 0 & 2657             &   7.2292 &                 & C\\\\\n\t 10 & 901 & 0 & 3rd & Davies, Mr. John Samuel                                 & male   & 21.0 & 2 & 0 & A/4 48871        &  24.1500 &                 & S\\\\\n\t 11 & 902 & 0 & 3rd & Ilieff, Mr. Ylio                                        & male   &   NA & 0 & 0 & 349220           &   7.8958 &                 & S\\\\\n\t 12 & 903 & 0 & 1st & Jones, Mr. Charles Cresson                              & male   & 46.0 & 0 & 0 & 694              &  26.0000 &                 & S\\\\\n\t 13 & 904 & 1 & 1st & Snyder, Mrs. John Pillsbury (Nelle Stevenson)           & female & 23.0 & 1 & 0 & 21228            &  82.2667 & B45             & S\\\\\n\t 14 & 905 & 0 & 2nd & Howard, Mr. Benjamin                                    & male   & 63.0 & 1 & 0 & 24065            &  26.0000 &                 & S\\\\\n\t 15 & 906 & 1 & 1st & Chaffee, Mrs. Herbert Fuller (Carrie Constance Toogood) & female & 47.0 & 1 & 0 & W.E.P. 5734      &  61.1750 & E31             & S\\\\\n\t 16 & 907 & 1 & 2nd & del Carlo, Mrs. Sebastiano (Argenia Genovesi)           & female & 24.0 & 1 & 0 & SC/PARIS 2167    &  27.7208 &                 & C\\\\\n\t 17 & 908 & 0 & 2nd & Keane, Mr. Daniel                                       & male   & 35.0 & 0 & 0 & 233734           &  12.3500 &                 & Q\\\\\n\t 18 & 909 & 0 & 3rd & Assaf, Mr. Gerios                                       & male   & 21.0 & 0 & 0 & 2692             &   7.2250 &                 & C\\\\\n\t 19 & 910 & 1 & 3rd & Ilmakangas, Miss. Ida Livija                            & female & 27.0 & 1 & 0 & STON/O2. 3101270 &   7.9250 &                 & S\\\\\n\t 20 & 911 & 1 & 3rd & Assaf Khalil, Mrs. Mariana (Miriam\")\"                   & female & 45.0 & 0 & 0 & 2696             &   7.2250 &                 & C\\\\\n\t 21 & 912 & 0 & 1st & Rothschild, Mr. Martin                                  & male   & 55.0 & 1 & 0 & PC 17603         &  59.4000 &                 & C\\\\\n\t 22 & 913 & 0 & 3rd & Olsen, Master. Artur Karl                               & male   &  9.0 & 0 & 1 & C 17368          &   3.1708 &                 & S\\\\\n\t 23 & 914 & 1 & 1st & Flegenheim, Mrs. Alfred (Antoinette)                    & female &   NA & 0 & 0 & PC 17598         &  31.6833 &                 & S\\\\\n\t 24 & 915 & 0 & 1st & Williams, Mr. Richard Norris II                         & male   & 21.0 & 0 & 1 & PC 17597         &  61.3792 &                 & C\\\\\n\t 25 & 916 & 1 & 1st & Ryerson, Mrs. Arthur Larned (Emily Maria Borie)         & female & 48.0 & 1 & 3 & PC 17608         & 262.3750 & B57 B59 B63 B66 & C\\\\\n\t 26 & 917 & 0 & 3rd & Robins, Mr. Alexander A                                 & male   & 50.0 & 1 & 0 & A/5. 3337        &  14.5000 &                 & S\\\\\n\t 27 & 918 & 1 & 1st & Ostby, Miss. Helene Ragnhild                            & female & 22.0 & 0 & 1 & 113509           &  61.9792 & B36             & C\\\\\n\t 28 & 919 & 0 & 3rd & Daher, Mr. Shedid                                       & male   & 22.5 & 0 & 0 & 2698             &   7.2250 &                 & C\\\\\n\t 29 & 920 & 0 & 1st & Brady, Mr. John Bertram                                 & male   & 41.0 & 0 & 0 & 113054           &  30.5000 & A21             & S\\\\\n\t 30 & 921 & 0 & 3rd & Samaan, Mr. Elias                                       & male   &   NA & 2 & 0 & 2662             &  21.6792 &                 & C\\\\\n\t ⋮ & ⋮ & ⋮ & ⋮ & ⋮ & ⋮ & ⋮ & ⋮ & ⋮ & ⋮ & ⋮ & ⋮ & ⋮\\\\\n\t 1280 & 862 & 0 & 2nd & Giles, Mr. Frederick Edward                         & male   & 21 & 1 & 0 & 28134            & 11.5000 &             & S\\\\\n\t 1281 & 863 & 1 & 1st & Swift, Mrs. Frederick Joel (Margaret Welles Barron) & female & 48 & 0 & 0 & 17466            & 25.9292 & D17         & S\\\\\n\t 1282 & 864 & 0 & 3rd & Sage, Miss. Dorothy Edith \"Dolly\"                   & female & NA & 8 & 2 & CA. 2343         & 69.5500 &             & S\\\\\n\t 1283 & 865 & 0 & 2nd & Gill, Mr. John William                              & male   & 24 & 0 & 0 & 233866           & 13.0000 &             & S\\\\\n\t 1284 & 866 & 1 & 2nd & Bystrom, Mrs. (Karolina)                            & female & 42 & 0 & 0 & 236852           & 13.0000 &             & S\\\\\n\t 1285 & 867 & 1 & 2nd & Duran y More, Miss. Asuncion                        & female & 27 & 1 & 0 & SC/PARIS 2149    & 13.8583 &             & C\\\\\n\t 1286 & 868 & 0 & 1st & Roebling, Mr. Washington Augustus II                & male   & 31 & 0 & 0 & PC 17590         & 50.4958 & A24         & S\\\\\n\t 1287 & 869 & 0 & 3rd & van Melkebeke, Mr. Philemon                         & male   & NA & 0 & 0 & 345777           &  9.5000 &             & S\\\\\n\t 1288 & 870 & 1 & 3rd & Johnson, Master. Harold Theodor                     & male   &  4 & 1 & 1 & 347742           & 11.1333 &             & S\\\\\n\t 1289 & 871 & 0 & 3rd & Balkic, Mr. Cerin                                   & male   & 26 & 0 & 0 & 349248           &  7.8958 &             & S\\\\\n\t 1290 & 872 & 1 & 1st & Beckwith, Mrs. Richard Leonard (Sallie Monypeny)    & female & 47 & 1 & 1 & 11751            & 52.5542 & D35         & S\\\\\n\t 1291 & 873 & 0 & 1st & Carlsson, Mr. Frans Olof                            & male   & 33 & 0 & 0 & 695              &  5.0000 & B51 B53 B55 & S\\\\\n\t 1292 & 874 & 0 & 3rd & Vander Cruyssen, Mr. Victor                         & male   & 47 & 0 & 0 & 345765           &  9.0000 &             & S\\\\\n\t 1293 & 875 & 1 & 2nd & Abelson, Mrs. Samuel (Hannah Wizosky)               & female & 28 & 1 & 0 & P/PP 3381        & 24.0000 &             & C\\\\\n\t 1294 & 876 & 1 & 3rd & Najib, Miss. Adele Kiamie \"Jane\"                    & female & 15 & 0 & 0 & 2667             &  7.2250 &             & C\\\\\n\t 1295 & 877 & 0 & 3rd & Gustafsson, Mr. Alfred Ossian                       & male   & 20 & 0 & 0 & 7534             &  9.8458 &             & S\\\\\n\t 1296 & 878 & 0 & 3rd & Petroff, Mr. Nedelio                                & male   & 19 & 0 & 0 & 349212           &  7.8958 &             & S\\\\\n\t 1297 & 879 & 0 & 3rd & Laleff, Mr. Kristo                                  & male   & NA & 0 & 0 & 349217           &  7.8958 &             & S\\\\\n\t 1298 & 880 & 1 & 1st & Potter, Mrs. Thomas Jr (Lily Alexenia Wilson)       & female & 56 & 0 & 1 & 11767            & 83.1583 & C50         & C\\\\\n\t 1299 & 881 & 1 & 2nd & Shelley, Mrs. William (Imanita Parrish Hall)        & female & 25 & 0 & 1 & 230433           & 26.0000 &             & S\\\\\n\t 1300 & 882 & 0 & 3rd & Markun, Mr. Johann                                  & male   & 33 & 0 & 0 & 349257           &  7.8958 &             & S\\\\\n\t 1301 & 883 & 0 & 3rd & Dahlberg, Miss. Gerda Ulrika                        & female & 22 & 0 & 0 & 7552             & 10.5167 &             & S\\\\\n\t 1302 & 884 & 0 & 2nd & Banfield, Mr. Frederick James                       & male   & 28 & 0 & 0 & C.A./SOTON 34068 & 10.5000 &             & S\\\\\n\t 1303 & 885 & 0 & 3rd & Sutehall, Mr. Henry Jr                              & male   & 25 & 0 & 0 & SOTON/OQ 392076  &  7.0500 &             & S\\\\\n\t 1304 & 886 & 0 & 3rd & Rice, Mrs. William (Margaret Norton)                & female & 39 & 0 & 5 & 382652           & 29.1250 &             & Q\\\\\n\t 1305 & 887 & 0 & 2nd & Montvila, Rev. Juozas                               & male   & 27 & 0 & 0 & 211536           & 13.0000 &             & S\\\\\n\t 1306 & 888 & 1 & 1st & Graham, Miss. Margaret Edith                        & female & 19 & 0 & 0 & 112053           & 30.0000 & B42         & S\\\\\n\t 1307 & 889 & 0 & 3rd & Johnston, Miss. Catherine Helen \"Carrie\"            & female & NA & 1 & 2 & W./C. 6607       & 23.4500 &             & S\\\\\n\t 1308 & 890 & 1 & 1st & Behr, Mr. Karl Howell                               & male   & 26 & 0 & 0 & 111369           & 30.0000 & C148        & C\\\\\n\t 1309 & 891 & 0 & 3rd & Dooley, Mr. Patrick                                 & male   & 32 & 0 & 0 & 370376           &  7.7500 &             & Q\\\\\n\\end{tabular}\n",
            "text/plain": [
              "     X    PassengerId Survived Pclass\n",
              "1     1   892         0        3rd   \n",
              "2     2   893         1        3rd   \n",
              "3     3   894         0        2nd   \n",
              "4     4   895         0        3rd   \n",
              "5     5   896         1        3rd   \n",
              "6     6   897         0        3rd   \n",
              "7     7   898         1        3rd   \n",
              "8     8   899         0        2nd   \n",
              "9     9   900         1        3rd   \n",
              "10   10   901         0        3rd   \n",
              "11   11   902         0        3rd   \n",
              "12   12   903         0        1st   \n",
              "13   13   904         1        1st   \n",
              "14   14   905         0        2nd   \n",
              "15   15   906         1        1st   \n",
              "16   16   907         1        2nd   \n",
              "17   17   908         0        2nd   \n",
              "18   18   909         0        3rd   \n",
              "19   19   910         1        3rd   \n",
              "20   20   911         1        3rd   \n",
              "21   21   912         0        1st   \n",
              "22   22   913         0        3rd   \n",
              "23   23   914         1        1st   \n",
              "24   24   915         0        1st   \n",
              "25   25   916         1        1st   \n",
              "26   26   917         0        3rd   \n",
              "27   27   918         1        1st   \n",
              "28   28   919         0        3rd   \n",
              "29   29   920         0        1st   \n",
              "30   30   921         0        3rd   \n",
              "⋮    ⋮    ⋮           ⋮        ⋮     \n",
              "1280 1280 862         0        2nd   \n",
              "1281 1281 863         1        1st   \n",
              "1282 1282 864         0        3rd   \n",
              "1283 1283 865         0        2nd   \n",
              "1284 1284 866         1        2nd   \n",
              "1285 1285 867         1        2nd   \n",
              "1286 1286 868         0        1st   \n",
              "1287 1287 869         0        3rd   \n",
              "1288 1288 870         1        3rd   \n",
              "1289 1289 871         0        3rd   \n",
              "1290 1290 872         1        1st   \n",
              "1291 1291 873         0        1st   \n",
              "1292 1292 874         0        3rd   \n",
              "1293 1293 875         1        2nd   \n",
              "1294 1294 876         1        3rd   \n",
              "1295 1295 877         0        3rd   \n",
              "1296 1296 878         0        3rd   \n",
              "1297 1297 879         0        3rd   \n",
              "1298 1298 880         1        1st   \n",
              "1299 1299 881         1        2nd   \n",
              "1300 1300 882         0        3rd   \n",
              "1301 1301 883         0        3rd   \n",
              "1302 1302 884         0        2nd   \n",
              "1303 1303 885         0        3rd   \n",
              "1304 1304 886         0        3rd   \n",
              "1305 1305 887         0        2nd   \n",
              "1306 1306 888         1        1st   \n",
              "1307 1307 889         0        3rd   \n",
              "1308 1308 890         1        1st   \n",
              "1309 1309 891         0        3rd   \n",
              "     Name                                                    Sex    Age  SibSp\n",
              "1    Kelly, Mr. James                                        male   34.5 0    \n",
              "2    Wilkes, Mrs. James (Ellen Needs)                        female 47.0 1    \n",
              "3    Myles, Mr. Thomas Francis                               male   62.0 0    \n",
              "4    Wirz, Mr. Albert                                        male   27.0 0    \n",
              "5    Hirvonen, Mrs. Alexander (Helga E Lindqvist)            female 22.0 1    \n",
              "6    Svensson, Mr. Johan Cervin                              male   14.0 0    \n",
              "7    Connolly, Miss. Kate                                    female 30.0 0    \n",
              "8    Caldwell, Mr. Albert Francis                            male   26.0 1    \n",
              "9    Abrahim, Mrs. Joseph (Sophie Halaut Easu)               female 18.0 0    \n",
              "10   Davies, Mr. John Samuel                                 male   21.0 2    \n",
              "11   Ilieff, Mr. Ylio                                        male     NA 0    \n",
              "12   Jones, Mr. Charles Cresson                              male   46.0 0    \n",
              "13   Snyder, Mrs. John Pillsbury (Nelle Stevenson)           female 23.0 1    \n",
              "14   Howard, Mr. Benjamin                                    male   63.0 1    \n",
              "15   Chaffee, Mrs. Herbert Fuller (Carrie Constance Toogood) female 47.0 1    \n",
              "16   del Carlo, Mrs. Sebastiano (Argenia Genovesi)           female 24.0 1    \n",
              "17   Keane, Mr. Daniel                                       male   35.0 0    \n",
              "18   Assaf, Mr. Gerios                                       male   21.0 0    \n",
              "19   Ilmakangas, Miss. Ida Livija                            female 27.0 1    \n",
              "20   Assaf Khalil, Mrs. Mariana (Miriam\")\"                   female 45.0 0    \n",
              "21   Rothschild, Mr. Martin                                  male   55.0 1    \n",
              "22   Olsen, Master. Artur Karl                               male    9.0 0    \n",
              "23   Flegenheim, Mrs. Alfred (Antoinette)                    female   NA 0    \n",
              "24   Williams, Mr. Richard Norris II                         male   21.0 0    \n",
              "25   Ryerson, Mrs. Arthur Larned (Emily Maria Borie)         female 48.0 1    \n",
              "26   Robins, Mr. Alexander A                                 male   50.0 1    \n",
              "27   Ostby, Miss. Helene Ragnhild                            female 22.0 0    \n",
              "28   Daher, Mr. Shedid                                       male   22.5 0    \n",
              "29   Brady, Mr. John Bertram                                 male   41.0 0    \n",
              "30   Samaan, Mr. Elias                                       male     NA 2    \n",
              "⋮    ⋮                                                       ⋮      ⋮    ⋮    \n",
              "1280 Giles, Mr. Frederick Edward                             male   21   1    \n",
              "1281 Swift, Mrs. Frederick Joel (Margaret Welles Barron)     female 48   0    \n",
              "1282 Sage, Miss. Dorothy Edith \"Dolly\"                       female NA   8    \n",
              "1283 Gill, Mr. John William                                  male   24   0    \n",
              "1284 Bystrom, Mrs. (Karolina)                                female 42   0    \n",
              "1285 Duran y More, Miss. Asuncion                            female 27   1    \n",
              "1286 Roebling, Mr. Washington Augustus II                    male   31   0    \n",
              "1287 van Melkebeke, Mr. Philemon                             male   NA   0    \n",
              "1288 Johnson, Master. Harold Theodor                         male    4   1    \n",
              "1289 Balkic, Mr. Cerin                                       male   26   0    \n",
              "1290 Beckwith, Mrs. Richard Leonard (Sallie Monypeny)        female 47   1    \n",
              "1291 Carlsson, Mr. Frans Olof                                male   33   0    \n",
              "1292 Vander Cruyssen, Mr. Victor                             male   47   0    \n",
              "1293 Abelson, Mrs. Samuel (Hannah Wizosky)                   female 28   1    \n",
              "1294 Najib, Miss. Adele Kiamie \"Jane\"                        female 15   0    \n",
              "1295 Gustafsson, Mr. Alfred Ossian                           male   20   0    \n",
              "1296 Petroff, Mr. Nedelio                                    male   19   0    \n",
              "1297 Laleff, Mr. Kristo                                      male   NA   0    \n",
              "1298 Potter, Mrs. Thomas Jr (Lily Alexenia Wilson)           female 56   0    \n",
              "1299 Shelley, Mrs. William (Imanita Parrish Hall)            female 25   0    \n",
              "1300 Markun, Mr. Johann                                      male   33   0    \n",
              "1301 Dahlberg, Miss. Gerda Ulrika                            female 22   0    \n",
              "1302 Banfield, Mr. Frederick James                           male   28   0    \n",
              "1303 Sutehall, Mr. Henry Jr                                  male   25   0    \n",
              "1304 Rice, Mrs. William (Margaret Norton)                    female 39   0    \n",
              "1305 Montvila, Rev. Juozas                                   male   27   0    \n",
              "1306 Graham, Miss. Margaret Edith                            female 19   0    \n",
              "1307 Johnston, Miss. Catherine Helen \"Carrie\"                female NA   1    \n",
              "1308 Behr, Mr. Karl Howell                                   male   26   0    \n",
              "1309 Dooley, Mr. Patrick                                     male   32   0    \n",
              "     Parch Ticket           Fare     Cabin           Embarked\n",
              "1    0     330911             7.8292                 Q       \n",
              "2    0     363272             7.0000                 S       \n",
              "3    0     240276             9.6875                 Q       \n",
              "4    0     315154             8.6625                 S       \n",
              "5    1     3101298           12.2875                 S       \n",
              "6    0     7538               9.2250                 S       \n",
              "7    0     330972             7.6292                 Q       \n",
              "8    1     248738            29.0000                 S       \n",
              "9    0     2657               7.2292                 C       \n",
              "10   0     A/4 48871         24.1500                 S       \n",
              "11   0     349220             7.8958                 S       \n",
              "12   0     694               26.0000                 S       \n",
              "13   0     21228             82.2667 B45             S       \n",
              "14   0     24065             26.0000                 S       \n",
              "15   0     W.E.P. 5734       61.1750 E31             S       \n",
              "16   0     SC/PARIS 2167     27.7208                 C       \n",
              "17   0     233734            12.3500                 Q       \n",
              "18   0     2692               7.2250                 C       \n",
              "19   0     STON/O2. 3101270   7.9250                 S       \n",
              "20   0     2696               7.2250                 C       \n",
              "21   0     PC 17603          59.4000                 C       \n",
              "22   1     C 17368            3.1708                 S       \n",
              "23   0     PC 17598          31.6833                 S       \n",
              "24   1     PC 17597          61.3792                 C       \n",
              "25   3     PC 17608         262.3750 B57 B59 B63 B66 C       \n",
              "26   0     A/5. 3337         14.5000                 S       \n",
              "27   1     113509            61.9792 B36             C       \n",
              "28   0     2698               7.2250                 C       \n",
              "29   0     113054            30.5000 A21             S       \n",
              "30   0     2662              21.6792                 C       \n",
              "⋮    ⋮     ⋮                ⋮        ⋮               ⋮       \n",
              "1280 0     28134            11.5000                  S       \n",
              "1281 0     17466            25.9292  D17             S       \n",
              "1282 2     CA. 2343         69.5500                  S       \n",
              "1283 0     233866           13.0000                  S       \n",
              "1284 0     236852           13.0000                  S       \n",
              "1285 0     SC/PARIS 2149    13.8583                  C       \n",
              "1286 0     PC 17590         50.4958  A24             S       \n",
              "1287 0     345777            9.5000                  S       \n",
              "1288 1     347742           11.1333                  S       \n",
              "1289 0     349248            7.8958                  S       \n",
              "1290 1     11751            52.5542  D35             S       \n",
              "1291 0     695               5.0000  B51 B53 B55     S       \n",
              "1292 0     345765            9.0000                  S       \n",
              "1293 0     P/PP 3381        24.0000                  C       \n",
              "1294 0     2667              7.2250                  C       \n",
              "1295 0     7534              9.8458                  S       \n",
              "1296 0     349212            7.8958                  S       \n",
              "1297 0     349217            7.8958                  S       \n",
              "1298 1     11767            83.1583  C50             C       \n",
              "1299 1     230433           26.0000                  S       \n",
              "1300 0     349257            7.8958                  S       \n",
              "1301 0     7552             10.5167                  S       \n",
              "1302 0     C.A./SOTON 34068 10.5000                  S       \n",
              "1303 0     SOTON/OQ 392076   7.0500                  S       \n",
              "1304 5     382652           29.1250                  Q       \n",
              "1305 0     211536           13.0000                  S       \n",
              "1306 0     112053           30.0000  B42             S       \n",
              "1307 2     W./C. 6607       23.4500                  S       \n",
              "1308 0     111369           30.0000  C148            C       \n",
              "1309 0     370376            7.7500                  Q       "
            ]
          },
          "metadata": {}
        }
      ]
    },
    {
      "cell_type": "code",
      "source": [
        "prop.table(table(titanic$Survived))*100"
      ],
      "metadata": {
        "colab": {
          "base_uri": "https://localhost:8080/",
          "height": 69
        },
        "id": "OUy510tkKBOb",
        "outputId": "d4a279bd-f2f8-4736-e335-ddc49e5af075"
      },
      "execution_count": null,
      "outputs": [
        {
          "output_type": "display_data",
          "data": {
            "text/plain": [
              "\n",
              "       0        1 \n",
              "62.26127 37.73873 "
            ]
          },
          "metadata": {}
        }
      ]
    },
    {
      "cell_type": "code",
      "source": [
        "mean(titanic$Survived)*100"
      ],
      "metadata": {
        "colab": {
          "base_uri": "https://localhost:8080/",
          "height": 34
        },
        "id": "1Zw3LpBEKUDK",
        "outputId": "4888cd2f-1a12-42e2-97c7-fa8e26cf9555"
      },
      "execution_count": null,
      "outputs": [
        {
          "output_type": "display_data",
          "data": {
            "text/html": [
              "37.7387318563789"
            ],
            "text/markdown": "37.7387318563789",
            "text/latex": "37.7387318563789",
            "text/plain": [
              "[1] 37.73873"
            ]
          },
          "metadata": {}
        }
      ]
    },
    {
      "cell_type": "code",
      "source": [
        "max(titanic$Fare, na.rm = TRUE)"
      ],
      "metadata": {
        "colab": {
          "base_uri": "https://localhost:8080/",
          "height": 34
        },
        "id": "EuLXZILcKdAK",
        "outputId": "a53ea9a7-028a-4c49-8511-c5ddc1de4228"
      },
      "execution_count": null,
      "outputs": [
        {
          "output_type": "display_data",
          "data": {
            "text/html": [
              "512.3292"
            ],
            "text/markdown": "512.3292",
            "text/latex": "512.3292",
            "text/plain": [
              "[1] 512.3292"
            ]
          },
          "metadata": {}
        }
      ]
    },
    {
      "cell_type": "code",
      "source": [
        "table(titanic$Sex, titanic$Survived)"
      ],
      "metadata": {
        "colab": {
          "base_uri": "https://localhost:8080/",
          "height": 86
        },
        "id": "9haCqYbVLRwa",
        "outputId": "4d854804-f93a-4d98-cbcd-59a00fc403e4"
      },
      "execution_count": null,
      "outputs": [
        {
          "output_type": "display_data",
          "data": {
            "text/plain": [
              "        \n",
              "           0   1\n",
              "  female  81 385\n",
              "  male   734 109"
            ]
          },
          "metadata": {}
        }
      ]
    },
    {
      "cell_type": "code",
      "source": [
        "prop.table(table(titanic$Sex, titanic$Survived)[, 2])*100"
      ],
      "metadata": {
        "colab": {
          "base_uri": "https://localhost:8080/",
          "height": 34
        },
        "id": "lcHbJDpKLWXq",
        "outputId": "9fcff50e-268e-455f-a768-6497324288b3"
      },
      "execution_count": null,
      "outputs": [
        {
          "output_type": "display_data",
          "data": {
            "text/html": [
              "<style>\n",
              ".dl-inline {width: auto; margin:0; padding: 0}\n",
              ".dl-inline>dt, .dl-inline>dd {float: none; width: auto; display: inline-block}\n",
              ".dl-inline>dt::after {content: \":\\0020\"; padding-right: .5ex}\n",
              ".dl-inline>dt:not(:first-of-type) {padding-left: .5ex}\n",
              "</style><dl class=dl-inline><dt>female</dt><dd>77.9352226720648</dd><dt>male</dt><dd>22.0647773279352</dd></dl>\n"
            ],
            "text/markdown": "female\n:   77.9352226720648male\n:   22.0647773279352\n\n",
            "text/latex": "\\begin{description*}\n\\item[female] 77.9352226720648\n\\item[male] 22.0647773279352\n\\end{description*}\n",
            "text/plain": [
              "  female     male \n",
              "77.93522 22.06478 "
            ]
          },
          "metadata": {}
        }
      ]
    },
    {
      "cell_type": "code",
      "source": [
        "barplot(table(titanic$Pclass))"
      ],
      "metadata": {
        "colab": {
          "base_uri": "https://localhost:8080/",
          "height": 437
        },
        "id": "I-_El-x7Lwpa",
        "outputId": "df3e77f5-f35d-4c02-82dc-d0c92ca22330"
      },
      "execution_count": null,
      "outputs": [
        {
          "output_type": "display_data",
          "data": {
            "text/plain": [
              "plot without title"
            ],
            "image/png": "[encoded data removed]"
          },
          "metadata": {
            "image/png": {
              "width": 420,
              "height": 420
            }
          }
        }
      ]
    },
    {
      "cell_type": "code",
      "source": [
        "barplot(table(titanic$Sex))"
      ],
      "metadata": {
        "colab": {
          "base_uri": "https://localhost:8080/",
          "height": 437
        },
        "id": "LUNQTMezL4j6",
        "outputId": "4a9abe70-4951-4eb2-b69d-14e1cfa3c10f"
      },
      "execution_count": null,
      "outputs": [
        {
          "output_type": "display_data",
          "data": {
            "text/plain": [
              "plot without title"
            ],
            "image/png": "[encoded data removed]"
          },
          "metadata": {
            "image/png": {
              "width": 420,
              "height": 420
            }
          }
        }
      ]
    }
  ]
}